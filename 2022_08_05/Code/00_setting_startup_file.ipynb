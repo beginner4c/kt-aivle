{
 "cells": [
  {
   "cell_type": "markdown",
   "id": "0eb1199b",
   "metadata": {},
   "source": [
    "# Setting Startup File"
   ]
  },
  {
   "cell_type": "code",
   "execution_count": null,
   "id": "ce8bb614",
   "metadata": {},
   "outputs": [],
   "source": [
    "# 1. make ipython profile\n",
    "# !ipython과 !dir은 window os의 명령어를 사용하는 것이다"
   ]
  },
  {
   "cell_type": "code",
   "execution_count": 2,
   "id": "1ec687ab",
   "metadata": {},
   "outputs": [
    {
     "name": "stderr",
     "output_type": "stream",
     "text": [
      "[ProfileCreate] Generating default config file: 'C:\\\\Users\\\\User\\\\.ipython\\\\profile_default\\\\ipython_config.py'\n",
      "[ProfileCreate] Generating default config file: 'C:\\\\Users\\\\User\\\\.ipython\\\\profile_default\\\\ipython_kernel_config.py'\n"
     ]
    }
   ],
   "source": [
    "!ipython profile create"
   ]
  },
  {
   "cell_type": "code",
   "execution_count": null,
   "id": "c5bf3aab",
   "metadata": {},
   "outputs": [],
   "source": [
    "# 2. make .py file in startup directory \n",
    "# %와 %%의 차이점?\n",
    "# %는 한 줄, %%은 cell 전체에 영향을 미친다"
   ]
  },
  {
   "cell_type": "code",
   "execution_count": 5,
   "id": "099a41e9",
   "metadata": {},
   "outputs": [
    {
     "name": "stdout",
     "output_type": "stream",
     "text": [
      " C 드라이브의 볼륨에는 이름이 없습니다.\n",
      " 볼륨 일련 번호: 7C6C-FC35\n",
      "\n",
      " C:\\Users\\user\\.ipython 디렉터리\n",
      "\n",
      "2022-08-01  오전 10:10    <DIR>          .\n",
      "2022-08-01  오전 10:10    <DIR>          ..\n",
      "2022-08-01  오전 10:10    <DIR>          extensions\n",
      "2022-08-01  오전 10:10    <DIR>          nbextensions\n",
      "2022-08-05  오전 10:51    <DIR>          profile_default\n",
      "               0개 파일                   0 바이트\n",
      "               5개 디렉터리  123,737,100,288 바이트 남음\n"
     ]
    }
   ],
   "source": [
    "!dir C:\\Users\\user\\.ipython"
   ]
  },
  {
   "cell_type": "code",
   "execution_count": 6,
   "id": "d9630efb",
   "metadata": {},
   "outputs": [
    {
     "name": "stdout",
     "output_type": "stream",
     "text": [
      " C 드라이브의 볼륨에는 이름이 없습니다.\n",
      " 볼륨 일련 번호: 7C6C-FC35\n",
      "\n",
      " C:\\Users\\user\\.ipython\\profile_default\\startup 디렉터리\n",
      "\n",
      "2022-08-01  오전 10:10    <DIR>          .\n",
      "2022-08-01  오전 10:10    <DIR>          ..\n",
      "2022-08-01  오전 10:10               371 README\n",
      "               1개 파일                 371 바이트\n",
      "               2개 디렉터리  123,737,427,968 바이트 남음\n"
     ]
    }
   ],
   "source": [
    "!dir C:\\Users\\user\\.ipython\\profile_default\\startup"
   ]
  },
  {
   "cell_type": "code",
   "execution_count": null,
   "id": "9639b041",
   "metadata": {},
   "outputs": [],
   "source": [
    "# %load C:\\Users\\user\\.ipython\\profile_default\\startup\\README\n",
    "This is the IPython startup directory\n",
    "\n",
    ".py and .ipy files in this directory will be run *prior* to any code or files specified\n",
    "via the exec_lines or exec_files configurables whenever you load this profile.\n",
    "\n",
    "Files will be run in lexicographical order, so you can control the execution order of files\n",
    "with a prefix, e.g.::\n",
    "\n",
    "    00-first.py\n",
    "    50-middle.py\n",
    "    99-last.ipy\n"
   ]
  },
  {
   "cell_type": "code",
   "execution_count": 10,
   "id": "e856a164",
   "metadata": {},
   "outputs": [
    {
     "name": "stdout",
     "output_type": "stream",
     "text": [
      "Overwriting C:\\Users\\user\\.ipython\\profile_default\\startup\\00-first.py\n"
     ]
    }
   ],
   "source": [
    "%%writefile C:\\Users\\user\\.ipython\\profile_default\\startup\\00-first.py\n",
    "import pandas as pd\n",
    "import numpy as np\n",
    "import requests\n",
    "from bs4 import BeautifulSoup"
   ]
  },
  {
   "cell_type": "code",
   "execution_count": null,
   "id": "678cf073",
   "metadata": {},
   "outputs": [],
   "source": [
    "# %load C:\\Users\\user\\.ipython\\profile_default\\startup\\00-first.py\n",
    "import pandas as pd\n",
    "import numpy as np\n",
    "import requests\n",
    "from bs4 import BeautifulSoup\n"
   ]
  },
  {
   "cell_type": "code",
   "execution_count": null,
   "id": "0bb25715",
   "metadata": {},
   "outputs": [],
   "source": []
  }
 ],
 "metadata": {
  "kernelspec": {
   "display_name": "Python 3",
   "language": "python",
   "name": "python3"
  },
  "language_info": {
   "codemirror_mode": {
    "name": "ipython",
    "version": 3
   },
   "file_extension": ".py",
   "mimetype": "text/x-python",
   "name": "python",
   "nbconvert_exporter": "python",
   "pygments_lexer": "ipython3",
   "version": "3.8.8"
  }
 },
 "nbformat": 4,
 "nbformat_minor": 5
}
