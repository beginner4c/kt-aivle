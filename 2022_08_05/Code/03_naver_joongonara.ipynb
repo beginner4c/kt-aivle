{
 "cells": [
  {
   "cell_type": "markdown",
   "id": "6c956df5",
   "metadata": {},
   "source": [
    "### 네이버 중고나라\n",
    "- selenium에서 iframe에 있는 데이터 수집\n",
    "- https://cafe.naver.com/joonggonara.cafe"
   ]
  },
  {
   "cell_type": "code",
   "execution_count": 40,
   "id": "2e83cde8",
   "metadata": {},
   "outputs": [],
   "source": [
    "from selenium import webdriver\n",
    "from selenium.webdriver.common.by import By\n",
    "import time"
   ]
  },
  {
   "cell_type": "code",
   "execution_count": 3,
   "id": "3bf59c5e",
   "metadata": {},
   "outputs": [],
   "source": [
    "url = \"https://cafe.naver.com/joonggonara.cafe\""
   ]
  },
  {
   "cell_type": "code",
   "execution_count": null,
   "id": "d425ce97",
   "metadata": {},
   "outputs": [],
   "source": [
    "# 1. 웹브라우저 열기 및 페이지 이동"
   ]
  },
  {
   "cell_type": "code",
   "execution_count": 41,
   "id": "5c18043b",
   "metadata": {},
   "outputs": [
    {
     "name": "stderr",
     "output_type": "stream",
     "text": [
      "<ipython-input-41-8d3dccb0431b>:1: DeprecationWarning: executable_path has been deprecated, please pass in a Service object\n",
      "  driver = webdriver.Chrome(executable_path=\"./../chromedriver\")\n"
     ]
    }
   ],
   "source": [
    "driver = webdriver.Chrome(executable_path=\"./../chromedriver\")\n",
    "driver.get(url)"
   ]
  },
  {
   "cell_type": "code",
   "execution_count": null,
   "id": "03750225",
   "metadata": {},
   "outputs": [],
   "source": [
    "# 만약 이게 전체 셀로 한 번에 실행해버리면 브라우저가 열리기 전\n",
    "# 명령어가 들어가버리고 에러가 발생할 수 있기 때문에\n",
    "# 이를 방지하기 위해서 time.sleep() 명령어를 사용하는 경우가 있다\n",
    "time.sleep(3)"
   ]
  },
  {
   "cell_type": "code",
   "execution_count": 7,
   "id": "5a8c7514",
   "metadata": {},
   "outputs": [],
   "source": [
    "# 2. 검색창에 \"맥북\"을 입력하고 검색 버튼 클릭"
   ]
  },
  {
   "cell_type": "code",
   "execution_count": 9,
   "id": "46b249d6",
   "metadata": {},
   "outputs": [],
   "source": [
    "keyword = \"맥북\"\n",
    "driver.find_element(By.CSS_SELECTOR, \"#topLayerQueryInput\").send_keys(keyword) # 검색 창에 keyword 입력\n",
    "#topLayerQueryInput"
   ]
  },
  {
   "cell_type": "code",
   "execution_count": 10,
   "id": "183f26f6",
   "metadata": {},
   "outputs": [],
   "source": [
    "driver.execute_script(\"searchBoard();\") # 검색 버튼 클릭\n",
    "#searchBoard();"
   ]
  },
  {
   "cell_type": "code",
   "execution_count": 11,
   "id": "285b89e9",
   "metadata": {},
   "outputs": [],
   "source": [
    "# 3. 게시글 목록 데이터 수집 : iframe"
   ]
  },
  {
   "cell_type": "code",
   "execution_count": 26,
   "id": "c98e23e5",
   "metadata": {},
   "outputs": [
    {
     "data": {
      "text/plain": [
       "0"
      ]
     },
     "execution_count": 26,
     "metadata": {},
     "output_type": "execute_result"
    }
   ],
   "source": [
    "selector = \".article-board > table > tbody > tr\"\n",
    "elements = driver.find_elements(By.CSS_SELECTOR, selector)\n",
    "len(elements)\n",
    "# 중고나라의 경우 iframe으로 구성되어 있어 기존의 방식으로 가져올 수 없다"
   ]
  },
  {
   "cell_type": "code",
   "execution_count": 27,
   "id": "42f93fe2",
   "metadata": {},
   "outputs": [
    {
     "data": {
      "text/plain": [
       "<selenium.webdriver.remote.webelement.WebElement (session=\"017cc63ac73705de09e005ecb0cb94f3\", element=\"561fb874-415d-472a-abd9-7ace7f494513\")>"
      ]
     },
     "execution_count": 27,
     "metadata": {},
     "output_type": "execute_result"
    }
   ],
   "source": [
    "# iframe 으로 drvier 이동\n",
    "iframe = driver.find_element(By.CSS_SELECTOR, \"#cafe_main\")\n",
    "iframe"
   ]
  },
  {
   "cell_type": "code",
   "execution_count": 28,
   "id": "ff8fe7b3",
   "metadata": {},
   "outputs": [],
   "source": [
    "driver.switch_to.frame(iframe)"
   ]
  },
  {
   "cell_type": "code",
   "execution_count": 30,
   "id": "cc6a809e",
   "metadata": {},
   "outputs": [
    {
     "data": {
      "text/plain": [
       "15"
      ]
     },
     "execution_count": 30,
     "metadata": {},
     "output_type": "execute_result"
    }
   ],
   "source": [
    "selector = \".article-board > table > tbody > tr\"\n",
    "elements = driver.find_elements(By.CSS_SELECTOR, selector)\n",
    "len(elements)"
   ]
  },
  {
   "cell_type": "code",
   "execution_count": 32,
   "id": "6dd11a05",
   "metadata": {},
   "outputs": [],
   "source": [
    "element = elements[0]"
   ]
  },
  {
   "cell_type": "code",
   "execution_count": 35,
   "id": "2145a729",
   "metadata": {},
   "outputs": [
    {
     "data": {
      "text/plain": [
       "('14인치 M1PRO M1MAX 엠원프로 엠원맥스 맥북프로 애플노트북', 'topontopcom')"
      ]
     },
     "execution_count": 35,
     "metadata": {},
     "output_type": "execute_result"
    }
   ],
   "source": [
    "title = element.find_element(By.CSS_SELECTOR, \".article\").text\n",
    "writer = element.find_element(By.CSS_SELECTOR,\".p-nick\").text\n",
    "title, writer"
   ]
  },
  {
   "cell_type": "code",
   "execution_count": 36,
   "id": "98767104",
   "metadata": {},
   "outputs": [
    {
     "data": {
      "text/html": [
       "<div>\n",
       "<style scoped>\n",
       "    .dataframe tbody tr th:only-of-type {\n",
       "        vertical-align: middle;\n",
       "    }\n",
       "\n",
       "    .dataframe tbody tr th {\n",
       "        vertical-align: top;\n",
       "    }\n",
       "\n",
       "    .dataframe thead th {\n",
       "        text-align: right;\n",
       "    }\n",
       "</style>\n",
       "<table border=\"1\" class=\"dataframe\">\n",
       "  <thead>\n",
       "    <tr style=\"text-align: right;\">\n",
       "      <th></th>\n",
       "      <th>14인치 M1PRO M1MAX 엠원프로 엠원맥스 맥북프로 애플노트북</th>\n",
       "      <th>topontopcom</th>\n",
       "    </tr>\n",
       "  </thead>\n",
       "  <tbody>\n",
       "    <tr>\n",
       "      <th>13</th>\n",
       "      <td>2021 M1 맥북프로 16인치 스페이스그레이</td>\n",
       "      <td>흐루두두</td>\n",
       "    </tr>\n",
       "    <tr>\n",
       "      <th>14</th>\n",
       "      <td>맥북에어m1 16g 512 스페이스그레이+매직마우스2+파우치+거치대+독+허브 증정</td>\n",
       "      <td>lyc891010</td>\n",
       "    </tr>\n",
       "  </tbody>\n",
       "</table>\n",
       "</div>"
      ],
      "text/plain": [
       "            14인치 M1PRO M1MAX 엠원프로 엠원맥스 맥북프로 애플노트북 topontopcom\n",
       "13                      2021 M1 맥북프로 16인치 스페이스그레이        흐루두두\n",
       "14  맥북에어m1 16g 512 스페이스그레이+매직마우스2+파우치+거치대+독+허브 증정   lyc891010"
      ]
     },
     "execution_count": 36,
     "metadata": {},
     "output_type": "execute_result"
    }
   ],
   "source": [
    "data = []\n",
    "for element in elements :\n",
    "    data.append({\n",
    "        title : element.find_element(By.CSS_SELECTOR, \".article\").text,\n",
    "        writer : element.find_element(By.CSS_SELECTOR,\".p-nick\").text\n",
    "    })\n",
    "df = pd.DataFrame(data)\n",
    "df.tail(2)"
   ]
  },
  {
   "cell_type": "code",
   "execution_count": 25,
   "id": "4640a451",
   "metadata": {},
   "outputs": [],
   "source": [
    "# 원래 default frame으로 이동\n",
    "driver.switch_to.default_content()"
   ]
  },
  {
   "cell_type": "code",
   "execution_count": null,
   "id": "f0f79337",
   "metadata": {},
   "outputs": [],
   "source": [
    "# 4. 웹브라우저 종료"
   ]
  },
  {
   "cell_type": "code",
   "execution_count": 37,
   "id": "c01415c8",
   "metadata": {},
   "outputs": [],
   "source": [
    "driver.quit()"
   ]
  },
  {
   "cell_type": "code",
   "execution_count": null,
   "id": "d1cd3008",
   "metadata": {},
   "outputs": [],
   "source": []
  }
 ],
 "metadata": {
  "kernelspec": {
   "display_name": "Python 3",
   "language": "python",
   "name": "python3"
  },
  "language_info": {
   "codemirror_mode": {
    "name": "ipython",
    "version": 3
   },
   "file_extension": ".py",
   "mimetype": "text/x-python",
   "name": "python",
   "nbconvert_exporter": "python",
   "pygments_lexer": "ipython3",
   "version": "3.8.8"
  }
 },
 "nbformat": 4,
 "nbformat_minor": 5
}
