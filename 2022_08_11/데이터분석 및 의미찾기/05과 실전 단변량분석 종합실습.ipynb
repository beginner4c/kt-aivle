{
 "cells": [
  {
   "cell_type": "markdown",
   "metadata": {
    "id": "qXUBfCONOdID"
   },
   "source": [
    "# 05과 실전 단변량분석 : 종합실습"
   ]
  },
  {
   "cell_type": "markdown",
   "metadata": {
    "id": "XOiIUDJ1i11u"
   },
   "source": [
    "* 고객사는 카시트를 판매하는 회사 입니다.\n",
    "* 최근 매출 하락에 대해 각 부서가 파악한 원인 다음과 같습니다. \n",
    "    * 최근에 경쟁사와의 가격 경쟁력이 하락하고 있고, 광고비용이 적절하게 집행되지 않음\n",
    "    * 너무 국내 시장에 집중됨.\n",
    "    * 지역마다의 구매력을 제대로 파악하지 못하고 있음.\n",
    "\n",
    "* 그러나 이러한 분석은 데이터에 근거하고 있는지 의문이 듭니다.\n",
    "* 이 문제를 해결하고자 프로젝트 팀이 빌딩되었습니다. \n",
    "* 여러분은 이 프로젝트팀에 데이터분석전문가 이자 AI 개발자로 참여하고 있습니다.\n",
    "* 드디어 AIVLE 과정에서 갈고 닦은 실력을 발휘할 기회가 주어졌습니다.\n",
    "* 자, 이제 단변량 분석을 통해 비즈니스 인사이트를 도출해 봅시다!\n"
   ]
  },
  {
   "cell_type": "markdown",
   "metadata": {
    "id": "ox8HObZa3a2O"
   },
   "source": [
    "**단변량 분석 할 때 확인해야 할 점들**\n",
    "\n",
    "* 개별 변수의 분포로 부터…\n",
    "    * 값의 범위 확인\n",
    "    * 데이터가 모여 있는 구간(혹은 범주)와 희박한 구간(혹은 범주) 확인\n",
    "    * 이상치 확인 및 조치 방안\n",
    "    * 결측치 확인 및 조치 방안\n",
    "    * 가변수화, 스케일링 대상 선별\n",
    "\n",
    "* 비즈니스의 일반 사항과 특이사항을 도출\n",
    "    * 추가 분석 대상 도출.\n"
   ]
  },
  {
   "cell_type": "code",
   "execution_count": 1,
   "metadata": {
    "id": "bTVrr9iaLNsy"
   },
   "outputs": [],
   "source": [
    "import pandas as pd\n",
    "import numpy as np\n",
    "\n",
    "import matplotlib.pyplot as plt\n",
    "import seaborn as sns\n",
    "\n",
    "import warnings   \n",
    "warnings.filterwarnings(\"ignore\")  # 향후 버전에서 제외될 수 있다는 경고 메시지 감추기"
   ]
  },
  {
   "cell_type": "markdown",
   "metadata": {
    "id": "bBRhuVPyf4td"
   },
   "source": [
    "## 카시트 판매량 데이터"
   ]
  },
  {
   "cell_type": "markdown",
   "metadata": {
    "id": "7usNzsAVsGbi"
   },
   "source": [
    "![](https://cdn.images.express.co.uk/img/dynamic/24/590x/child-car-seat-986556.jpg?r=1532946857754)"
   ]
  },
  {
   "cell_type": "markdown",
   "metadata": {
    "id": "zYKHwYHatC4k"
   },
   "source": [
    "|\t변수명\t|\t설명\t|\t구분\t|\n",
    "|\t----\t|\t----\t|\t----\t|\n",
    "|\tSales \t|\t 각 지역 판매량(단위 : 1000개)\t|\tTarget\t|\n",
    "|\tCompPrice \t|\t 경쟁사 가격(단위 : 달러)\t|\tfeature\t|\n",
    "|\tIncome \t|\t 지역 평균 소득(단위 : 1000달러)\t|\tfeature\t|\n",
    "|\tAdvertising \t|\t 각 지역, 회사의 광고 예산(단위 : 1000달러)\t|\tfeature\t|\n",
    "|\tPopulation \t|\t 지역 인구수(단위 : 1000명)\t|\tfeature\t|\n",
    "|\tPrice \t|\t 자사 지역별 판매가격\t|\tfeature\t|\n",
    "|\tShelveLoc \t|\t 진열상태\t|\tfeature\t|\n",
    "|\tAge \t|\t 지역 인구의 평균 연령\t|\tfeature\t|\n",
    "|\tUrban \t|\t 도심 지역 여부(Yes,No)\t|\tfeature\t|\n",
    "|\tUS \t|\t 매장이 미국에 있는지 여부(Yes,No)\t|\tfeature\t|\n"
   ]
  },
  {
   "cell_type": "code",
   "execution_count": 2,
   "metadata": {
    "id": "08FGuKtjpGOj"
   },
   "outputs": [
    {
     "data": {
      "text/html": [
       "<div>\n",
       "<style scoped>\n",
       "    .dataframe tbody tr th:only-of-type {\n",
       "        vertical-align: middle;\n",
       "    }\n",
       "\n",
       "    .dataframe tbody tr th {\n",
       "        vertical-align: top;\n",
       "    }\n",
       "\n",
       "    .dataframe thead th {\n",
       "        text-align: right;\n",
       "    }\n",
       "</style>\n",
       "<table border=\"1\" class=\"dataframe\">\n",
       "  <thead>\n",
       "    <tr style=\"text-align: right;\">\n",
       "      <th></th>\n",
       "      <th>Sales</th>\n",
       "      <th>CompPrice</th>\n",
       "      <th>Income</th>\n",
       "      <th>Advertising</th>\n",
       "      <th>Population</th>\n",
       "      <th>Price</th>\n",
       "      <th>ShelveLoc</th>\n",
       "      <th>Age</th>\n",
       "      <th>Urban</th>\n",
       "      <th>US</th>\n",
       "    </tr>\n",
       "  </thead>\n",
       "  <tbody>\n",
       "    <tr>\n",
       "      <th>0</th>\n",
       "      <td>9.50</td>\n",
       "      <td>138</td>\n",
       "      <td>73</td>\n",
       "      <td>11</td>\n",
       "      <td>276</td>\n",
       "      <td>120</td>\n",
       "      <td>Bad</td>\n",
       "      <td>42</td>\n",
       "      <td>Yes</td>\n",
       "      <td>Yes</td>\n",
       "    </tr>\n",
       "    <tr>\n",
       "      <th>1</th>\n",
       "      <td>11.22</td>\n",
       "      <td>111</td>\n",
       "      <td>48</td>\n",
       "      <td>16</td>\n",
       "      <td>260</td>\n",
       "      <td>83</td>\n",
       "      <td>Good</td>\n",
       "      <td>65</td>\n",
       "      <td>Yes</td>\n",
       "      <td>Yes</td>\n",
       "    </tr>\n",
       "    <tr>\n",
       "      <th>2</th>\n",
       "      <td>10.06</td>\n",
       "      <td>113</td>\n",
       "      <td>35</td>\n",
       "      <td>10</td>\n",
       "      <td>269</td>\n",
       "      <td>80</td>\n",
       "      <td>Medium</td>\n",
       "      <td>59</td>\n",
       "      <td>Yes</td>\n",
       "      <td>Yes</td>\n",
       "    </tr>\n",
       "    <tr>\n",
       "      <th>3</th>\n",
       "      <td>7.40</td>\n",
       "      <td>117</td>\n",
       "      <td>100</td>\n",
       "      <td>4</td>\n",
       "      <td>466</td>\n",
       "      <td>97</td>\n",
       "      <td>Medium</td>\n",
       "      <td>55</td>\n",
       "      <td>Yes</td>\n",
       "      <td>Yes</td>\n",
       "    </tr>\n",
       "    <tr>\n",
       "      <th>4</th>\n",
       "      <td>4.15</td>\n",
       "      <td>141</td>\n",
       "      <td>64</td>\n",
       "      <td>3</td>\n",
       "      <td>340</td>\n",
       "      <td>128</td>\n",
       "      <td>Bad</td>\n",
       "      <td>38</td>\n",
       "      <td>Yes</td>\n",
       "      <td>No</td>\n",
       "    </tr>\n",
       "  </tbody>\n",
       "</table>\n",
       "</div>"
      ],
      "text/plain": [
       "   Sales  CompPrice  Income  Advertising  Population  Price ShelveLoc  Age  \\\n",
       "0   9.50        138      73           11         276    120       Bad   42   \n",
       "1  11.22        111      48           16         260     83      Good   65   \n",
       "2  10.06        113      35           10         269     80    Medium   59   \n",
       "3   7.40        117     100            4         466     97    Medium   55   \n",
       "4   4.15        141      64            3         340    128       Bad   38   \n",
       "\n",
       "  Urban   US  \n",
       "0   Yes  Yes  \n",
       "1   Yes  Yes  \n",
       "2   Yes  Yes  \n",
       "3   Yes  Yes  \n",
       "4   Yes   No  "
      ]
     },
     "execution_count": 2,
     "metadata": {},
     "output_type": "execute_result"
    }
   ],
   "source": [
    "path = 'https://raw.githubusercontent.com/JunhoYu/Data-Analysis/main/Carseats.csv'\n",
    "data = pd.read_csv(path)\n",
    "data.drop('Education', axis = 1, inplace = True)\n",
    "data.head()"
   ]
  },
  {
   "cell_type": "markdown",
   "metadata": {
    "id": "2KcdJrQNfJCZ"
   },
   "source": [
    "### ① Sales (Target) "
   ]
  },
  {
   "cell_type": "code",
   "execution_count": 7,
   "metadata": {
    "id": "Q5mGnZ5ffJCZ"
   },
   "outputs": [],
   "source": [
    "tar = data.Sales"
   ]
  },
  {
   "cell_type": "markdown",
   "metadata": {
    "id": "RkXL80PpfJCa"
   },
   "source": [
    "1) 변수의 비즈니스 의미"
   ]
  },
  {
   "cell_type": "markdown",
   "metadata": {
    "id": "iAi8vPRhJ_X5"
   },
   "source": [
    "- 각 지역의 판매량(단위 : 1000개)"
   ]
  },
  {
   "cell_type": "markdown",
   "metadata": {
    "id": "5Lzur-vKfJCa"
   },
   "source": [
    "2) 숫자, 범주?"
   ]
  },
  {
   "cell_type": "code",
   "execution_count": null,
   "metadata": {
    "id": "04hJ1UVNKFOM"
   },
   "outputs": [],
   "source": [
    "숫자형"
   ]
  },
  {
   "cell_type": "markdown",
   "metadata": {
    "id": "KuROaOxIf3AJ"
   },
   "source": [
    "3) NaN 존재 유무 및 조치방안"
   ]
  },
  {
   "cell_type": "code",
   "execution_count": 8,
   "metadata": {
    "id": "PzL82RnmKFrm"
   },
   "outputs": [
    {
     "data": {
      "text/plain": [
       "0"
      ]
     },
     "execution_count": 8,
     "metadata": {},
     "output_type": "execute_result"
    }
   ],
   "source": [
    "tar.isnull().sum()"
   ]
  },
  {
   "cell_type": "markdown",
   "metadata": {
    "id": "pYG-6q3rfJCa"
   },
   "source": [
    "4) 가변수화 필요 여부"
   ]
  },
  {
   "cell_type": "markdown",
   "metadata": {
    "id": "HxjAP_pXKGe0"
   },
   "source": [
    "- 숫자형이라 필요 없음"
   ]
  },
  {
   "cell_type": "markdown",
   "metadata": {
    "id": "H9_8VoENfJCa"
   },
   "source": [
    "5) 기초통계량(수치화)"
   ]
  },
  {
   "cell_type": "code",
   "execution_count": 9,
   "metadata": {
    "id": "DJpEltSbfJCa"
   },
   "outputs": [
    {
     "data": {
      "text/plain": [
       "count    400.000000\n",
       "mean       7.496325\n",
       "std        2.824115\n",
       "min        0.000000\n",
       "25%        5.390000\n",
       "50%        7.490000\n",
       "75%        9.320000\n",
       "max       16.270000\n",
       "Name: Sales, dtype: float64"
      ]
     },
     "execution_count": 9,
     "metadata": {},
     "output_type": "execute_result"
    }
   ],
   "source": [
    "tar.describe()"
   ]
  },
  {
   "cell_type": "markdown",
   "metadata": {
    "id": "2mgIyJ3vfJCa"
   },
   "source": [
    "6) 분포 확인(시각화)"
   ]
  },
  {
   "cell_type": "code",
   "execution_count": null,
   "metadata": {
    "id": "8Nnz494-fJCa"
   },
   "outputs": [],
   "source": []
  },
  {
   "cell_type": "markdown",
   "metadata": {
    "id": "s2MLcqE0fJCa"
   },
   "source": [
    "7) 기초통계량과 분포를 통해서 파악한 내용을 적어 봅시다.\n",
    "\n",
    "보이는 그대로를 넘어, 비즈니스 관점에서 고민하며 적어 봅시다."
   ]
  },
  {
   "cell_type": "code",
   "execution_count": null,
   "metadata": {
    "id": "zWPeElSNKTGe"
   },
   "outputs": [],
   "source": []
  },
  {
   "cell_type": "markdown",
   "metadata": {
    "id": "hr8edCgEfJCb"
   },
   "source": [
    "8) 추가 분석해 볼 사항이 있나요?"
   ]
  },
  {
   "cell_type": "code",
   "execution_count": null,
   "metadata": {
    "id": "O-DikjsuKTk8"
   },
   "outputs": [],
   "source": []
  },
  {
   "cell_type": "markdown",
   "metadata": {
    "id": "9WGX3Pm8g8HV"
   },
   "source": [
    "### ② CompPrice"
   ]
  },
  {
   "cell_type": "code",
   "execution_count": null,
   "metadata": {
    "id": "Bf4W8K0oKVmm"
   },
   "outputs": [],
   "source": []
  },
  {
   "cell_type": "markdown",
   "metadata": {
    "id": "DroeiAcFKVmn"
   },
   "source": [
    "1) 변수의 비즈니스 의미"
   ]
  },
  {
   "cell_type": "code",
   "execution_count": null,
   "metadata": {
    "id": "CKICGx9ZKVmn"
   },
   "outputs": [],
   "source": []
  },
  {
   "cell_type": "markdown",
   "metadata": {
    "id": "v-MauL-4KVmn"
   },
   "source": [
    "2) 숫자, 범주?"
   ]
  },
  {
   "cell_type": "code",
   "execution_count": null,
   "metadata": {
    "id": "GsC7i6SlKVmn"
   },
   "outputs": [],
   "source": []
  },
  {
   "cell_type": "markdown",
   "metadata": {
    "id": "yieBkt9KKVmn"
   },
   "source": [
    "3) NaN 존재 유무 및 조치방안"
   ]
  },
  {
   "cell_type": "code",
   "execution_count": null,
   "metadata": {
    "id": "1PnsgcTLKVmn"
   },
   "outputs": [],
   "source": []
  },
  {
   "cell_type": "markdown",
   "metadata": {
    "id": "7yirvVHqKVmn"
   },
   "source": [
    "4) 가변수화 필요 여부"
   ]
  },
  {
   "cell_type": "code",
   "execution_count": null,
   "metadata": {
    "id": "dW20glRyKVmn"
   },
   "outputs": [],
   "source": []
  },
  {
   "cell_type": "markdown",
   "metadata": {
    "id": "VZs3JI2PKVmn"
   },
   "source": [
    "5) 기초통계량(수치화)"
   ]
  },
  {
   "cell_type": "code",
   "execution_count": null,
   "metadata": {
    "id": "5Pcl-uIQKVmo"
   },
   "outputs": [],
   "source": []
  },
  {
   "cell_type": "markdown",
   "metadata": {
    "id": "F3hDjUqRKVmo"
   },
   "source": [
    "6) 분포 확인(시각화)"
   ]
  },
  {
   "cell_type": "code",
   "execution_count": null,
   "metadata": {
    "id": "5KUitowWKVmo"
   },
   "outputs": [],
   "source": []
  },
  {
   "cell_type": "markdown",
   "metadata": {
    "id": "UKozPsGNKVmo"
   },
   "source": [
    "7) 기초통계량과 분포를 통해서 파악한 내용을 적어 봅시다.\n",
    "\n",
    "보이는 그대로를 넘어, 비즈니스 관점에서 고민하며 적어 봅시다."
   ]
  },
  {
   "cell_type": "code",
   "execution_count": null,
   "metadata": {
    "id": "6vPaqA0RKVmo"
   },
   "outputs": [],
   "source": []
  },
  {
   "cell_type": "markdown",
   "metadata": {
    "id": "0bw-sgDfKVmo"
   },
   "source": [
    "8) 추가 분석해 볼 사항이 있나요?"
   ]
  },
  {
   "cell_type": "code",
   "execution_count": null,
   "metadata": {
    "id": "WI65k1-eKVmo"
   },
   "outputs": [],
   "source": []
  },
  {
   "cell_type": "markdown",
   "metadata": {
    "id": "CPQ4kqneg8SS"
   },
   "source": [
    "### ③ Income"
   ]
  },
  {
   "cell_type": "code",
   "execution_count": 3,
   "metadata": {
    "id": "gOTB8szfUPs5"
   },
   "outputs": [],
   "source": [
    "var = 'Income'"
   ]
  },
  {
   "cell_type": "markdown",
   "metadata": {
    "id": "Kccqg3yyUPs6"
   },
   "source": [
    "1) 변수의 비즈니스 의미"
   ]
  },
  {
   "cell_type": "markdown",
   "metadata": {
    "id": "_sPb9VIYUPs6"
   },
   "source": [
    "* 지역 평균 소득(단위 : 1000달러)"
   ]
  },
  {
   "cell_type": "markdown",
   "metadata": {
    "id": "tLuGW204UPs6"
   },
   "source": [
    "2) 숫자, 범주?"
   ]
  },
  {
   "cell_type": "markdown",
   "metadata": {
    "id": "GlVNqu0jUPs6"
   },
   "source": [
    "* 숫자"
   ]
  },
  {
   "cell_type": "markdown",
   "metadata": {
    "id": "6ZMpDczSUPs6"
   },
   "source": [
    "3) NaN 존재 유무 및 조치방안"
   ]
  },
  {
   "cell_type": "code",
   "execution_count": 4,
   "metadata": {
    "id": "wsbyo23yUPs6"
   },
   "outputs": [
    {
     "data": {
      "text/plain": [
       "0"
      ]
     },
     "execution_count": 4,
     "metadata": {},
     "output_type": "execute_result"
    }
   ],
   "source": [
    "data[var].isna().sum()"
   ]
  },
  {
   "cell_type": "markdown",
   "metadata": {
    "id": "x9eBbkhXUPs6"
   },
   "source": [
    "* NAN 없음"
   ]
  },
  {
   "cell_type": "markdown",
   "metadata": {
    "id": "ZTlNamSDUPs6"
   },
   "source": [
    "4) 가변수화 필요 여부"
   ]
  },
  {
   "cell_type": "markdown",
   "metadata": {
    "id": "v5NzqGubUPs6"
   },
   "source": [
    "* 숫자형이므로 필요 없음"
   ]
  },
  {
   "cell_type": "markdown",
   "metadata": {
    "id": "SanjUA82UPs7"
   },
   "source": [
    "5) 기초통계량(수치화)"
   ]
  },
  {
   "cell_type": "code",
   "execution_count": 5,
   "metadata": {
    "id": "2SbR80T0UPs7"
   },
   "outputs": [
    {
     "data": {
      "text/plain": [
       "count    400.000000\n",
       "mean      68.657500\n",
       "std       27.986037\n",
       "min       21.000000\n",
       "25%       42.750000\n",
       "50%       69.000000\n",
       "75%       91.000000\n",
       "max      120.000000\n",
       "Name: Income, dtype: float64"
      ]
     },
     "execution_count": 5,
     "metadata": {},
     "output_type": "execute_result"
    }
   ],
   "source": [
    "data[var].describe()"
   ]
  },
  {
   "cell_type": "markdown",
   "metadata": {
    "id": "zTQjvVcrUPs7"
   },
   "source": [
    "6) 분포 확인(시각화)"
   ]
  },
  {
   "cell_type": "code",
   "execution_count": 6,
   "metadata": {
    "id": "wk2Xa6nhUPs7"
   },
   "outputs": [
    {
     "data": {
      "image/png": "[encoded data removed]",
      "text/plain": [
       "<Figure size 432x576 with 3 Axes>"
      ]
     },
     "metadata": {
      "needs_background": "light"
     },
     "output_type": "display_data"
    }
   ],
   "source": [
    "plt.figure(figsize = (6,8))\n",
    "plt.subplot(3,1,1)\n",
    "sns.histplot(data[var], bins = 20)\n",
    "\n",
    "plt.subplot(3,1,2)\n",
    "sns.kdeplot(data[var])\n",
    "\n",
    "plt.subplot(3,1,3)\n",
    "sns.boxplot(data[var])\n",
    "\n",
    "plt.tight_layout()\n",
    "plt.show()"
   ]
  },
  {
   "cell_type": "markdown",
   "metadata": {
    "id": "pC8Hhurag8ST"
   },
   "source": [
    "7) 기초통계량과 분포를 통해서 파악한 내용을 적어 봅시다.\n",
    "\n",
    "보이는 그대로를 넘어, 비즈니스 관점에서 고민하며 적어 봅시다."
   ]
  },
  {
   "cell_type": "markdown",
   "metadata": {
    "id": "8wCRudBCcjQR"
   },
   "source": [
    "* 전 연령에 대한 인구별 평균 소득액? 성인에 대한 평균 소득액?\n",
    "* 2만달러 ~ 12만 달러 이므로 연간 소득일 것.\n",
    "* 50%가 약 4만달러 ~ 9만달러"
   ]
  },
  {
   "cell_type": "markdown",
   "metadata": {
    "id": "8XzrJN_0g8ST"
   },
   "source": [
    "8) 추가 분석해 볼 사항이 있나요?"
   ]
  },
  {
   "cell_type": "markdown",
   "metadata": {
    "id": "S6yXt6bndv9y"
   },
   "source": [
    "* 평균 소득과 카시트 판매량과의 관계\n",
    "* 평균 소득과 카시트 가격과의 관계"
   ]
  },
  {
   "cell_type": "markdown",
   "metadata": {
    "id": "oGaBjzSYg8ch"
   },
   "source": [
    "### ④ Advertising"
   ]
  },
  {
   "cell_type": "code",
   "execution_count": null,
   "metadata": {
    "id": "J5OcQvBZKZna"
   },
   "outputs": [],
   "source": []
  },
  {
   "cell_type": "markdown",
   "metadata": {
    "id": "58J_buflKZna"
   },
   "source": [
    "1) 변수의 비즈니스 의미"
   ]
  },
  {
   "cell_type": "code",
   "execution_count": null,
   "metadata": {
    "id": "7Zrj_9c3KZna"
   },
   "outputs": [],
   "source": []
  },
  {
   "cell_type": "markdown",
   "metadata": {
    "id": "sU5WZOYyKZna"
   },
   "source": [
    "2) 숫자, 범주?"
   ]
  },
  {
   "cell_type": "code",
   "execution_count": null,
   "metadata": {
    "id": "jEF5pF6HKZna"
   },
   "outputs": [],
   "source": []
  },
  {
   "cell_type": "markdown",
   "metadata": {
    "id": "IgBghJYWKZnb"
   },
   "source": [
    "3) NaN 존재 유무 및 조치방안"
   ]
  },
  {
   "cell_type": "code",
   "execution_count": null,
   "metadata": {
    "id": "WwM20diyKZnb"
   },
   "outputs": [],
   "source": []
  },
  {
   "cell_type": "markdown",
   "metadata": {
    "id": "Z46jgvtHKZnb"
   },
   "source": [
    "4) 가변수화 필요 여부"
   ]
  },
  {
   "cell_type": "code",
   "execution_count": null,
   "metadata": {
    "id": "-GEDaDJAKZnb"
   },
   "outputs": [],
   "source": []
  },
  {
   "cell_type": "markdown",
   "metadata": {
    "id": "OIAtGAm1KZnb"
   },
   "source": [
    "5) 기초통계량(수치화)"
   ]
  },
  {
   "cell_type": "code",
   "execution_count": null,
   "metadata": {
    "id": "ri2j2COCKZnb"
   },
   "outputs": [],
   "source": []
  },
  {
   "cell_type": "markdown",
   "metadata": {
    "id": "l3-THMh8KZnb"
   },
   "source": [
    "6) 분포 확인(시각화)"
   ]
  },
  {
   "cell_type": "code",
   "execution_count": null,
   "metadata": {
    "id": "vfr1GQDQKZnb"
   },
   "outputs": [],
   "source": []
  },
  {
   "cell_type": "markdown",
   "metadata": {
    "id": "7L9WFA7jKZnb"
   },
   "source": [
    "7) 기초통계량과 분포를 통해서 파악한 내용을 적어 봅시다.\n",
    "\n",
    "보이는 그대로를 넘어, 비즈니스 관점에서 고민하며 적어 봅시다."
   ]
  },
  {
   "cell_type": "code",
   "execution_count": null,
   "metadata": {
    "id": "32YE4yiPKZnb"
   },
   "outputs": [],
   "source": []
  },
  {
   "cell_type": "markdown",
   "metadata": {
    "id": "hEK7x2zfKZnb"
   },
   "source": [
    "8) 추가 분석해 볼 사항이 있나요?"
   ]
  },
  {
   "cell_type": "code",
   "execution_count": null,
   "metadata": {
    "id": "QOE1DyVWKZnb"
   },
   "outputs": [],
   "source": []
  },
  {
   "cell_type": "markdown",
   "metadata": {
    "id": "Pf9iFSXpg8mZ"
   },
   "source": [
    "### ⑤ Population"
   ]
  },
  {
   "cell_type": "code",
   "execution_count": null,
   "metadata": {
    "id": "lDPFjmEBKdDG"
   },
   "outputs": [],
   "source": []
  },
  {
   "cell_type": "markdown",
   "metadata": {
    "id": "FUWDUqtUKdDG"
   },
   "source": [
    "1) 변수의 비즈니스 의미"
   ]
  },
  {
   "cell_type": "code",
   "execution_count": null,
   "metadata": {
    "id": "RXkqc6kDKdDG"
   },
   "outputs": [],
   "source": []
  },
  {
   "cell_type": "markdown",
   "metadata": {
    "id": "fJgAvBYhKdDG"
   },
   "source": [
    "2) 숫자, 범주?"
   ]
  },
  {
   "cell_type": "code",
   "execution_count": null,
   "metadata": {
    "id": "eSoMmmeZKdDH"
   },
   "outputs": [],
   "source": []
  },
  {
   "cell_type": "markdown",
   "metadata": {
    "id": "ODbQiKV8KdDH"
   },
   "source": [
    "3) NaN 존재 유무 및 조치방안"
   ]
  },
  {
   "cell_type": "code",
   "execution_count": null,
   "metadata": {
    "id": "WjZpDkZUKdDH"
   },
   "outputs": [],
   "source": []
  },
  {
   "cell_type": "markdown",
   "metadata": {
    "id": "Q0ZXi1_hKdDH"
   },
   "source": [
    "4) 가변수화 필요 여부"
   ]
  },
  {
   "cell_type": "code",
   "execution_count": null,
   "metadata": {
    "id": "kg_6eNfkKdDH"
   },
   "outputs": [],
   "source": []
  },
  {
   "cell_type": "markdown",
   "metadata": {
    "id": "2-wlHr0IKdDH"
   },
   "source": [
    "5) 기초통계량(수치화)"
   ]
  },
  {
   "cell_type": "code",
   "execution_count": null,
   "metadata": {
    "id": "OyO210SYKdDH"
   },
   "outputs": [],
   "source": []
  },
  {
   "cell_type": "markdown",
   "metadata": {
    "id": "KK602076KdDH"
   },
   "source": [
    "6) 분포 확인(시각화)"
   ]
  },
  {
   "cell_type": "code",
   "execution_count": null,
   "metadata": {
    "id": "xrJNuK5RKdDH"
   },
   "outputs": [],
   "source": []
  },
  {
   "cell_type": "markdown",
   "metadata": {
    "id": "L-oLfuJfKdDH"
   },
   "source": [
    "7) 기초통계량과 분포를 통해서 파악한 내용을 적어 봅시다.\n",
    "\n",
    "보이는 그대로를 넘어, 비즈니스 관점에서 고민하며 적어 봅시다."
   ]
  },
  {
   "cell_type": "code",
   "execution_count": null,
   "metadata": {
    "id": "K3LlaZhPKdDH"
   },
   "outputs": [],
   "source": []
  },
  {
   "cell_type": "markdown",
   "metadata": {
    "id": "gfDpbK8WKdDH"
   },
   "source": [
    "8) 추가 분석해 볼 사항이 있나요?"
   ]
  },
  {
   "cell_type": "code",
   "execution_count": null,
   "metadata": {
    "id": "hAP4FpslKdDH"
   },
   "outputs": [],
   "source": []
  },
  {
   "cell_type": "markdown",
   "metadata": {
    "id": "-MNN7Zplg8wC"
   },
   "source": [
    "### ⑥ Price"
   ]
  },
  {
   "cell_type": "code",
   "execution_count": null,
   "metadata": {
    "id": "D5MPxJUuKgql"
   },
   "outputs": [],
   "source": []
  },
  {
   "cell_type": "markdown",
   "metadata": {
    "id": "uihRb98UKgqm"
   },
   "source": [
    "1) 변수의 비즈니스 의미"
   ]
  },
  {
   "cell_type": "code",
   "execution_count": null,
   "metadata": {
    "id": "rT9gF6rQKgqm"
   },
   "outputs": [],
   "source": []
  },
  {
   "cell_type": "markdown",
   "metadata": {
    "id": "AI--kcEhKgqm"
   },
   "source": [
    "2) 숫자, 범주?"
   ]
  },
  {
   "cell_type": "code",
   "execution_count": null,
   "metadata": {
    "id": "04g_QhFcKgqm"
   },
   "outputs": [],
   "source": []
  },
  {
   "cell_type": "markdown",
   "metadata": {
    "id": "xyScDmM_Kgqm"
   },
   "source": [
    "3) NaN 존재 유무 및 조치방안"
   ]
  },
  {
   "cell_type": "code",
   "execution_count": null,
   "metadata": {
    "id": "XL_vOgVBKgqm"
   },
   "outputs": [],
   "source": []
  },
  {
   "cell_type": "markdown",
   "metadata": {
    "id": "N_Vru07HKgqm"
   },
   "source": [
    "4) 가변수화 필요 여부"
   ]
  },
  {
   "cell_type": "code",
   "execution_count": null,
   "metadata": {
    "id": "CCPAwoSgKgqn"
   },
   "outputs": [],
   "source": []
  },
  {
   "cell_type": "markdown",
   "metadata": {
    "id": "gBt5wjXYKgqn"
   },
   "source": [
    "5) 기초통계량(수치화)"
   ]
  },
  {
   "cell_type": "code",
   "execution_count": null,
   "metadata": {
    "id": "Zrfo_lsjKgqn"
   },
   "outputs": [],
   "source": []
  },
  {
   "cell_type": "markdown",
   "metadata": {
    "id": "aNeHTeIXKgqn"
   },
   "source": [
    "6) 분포 확인(시각화)"
   ]
  },
  {
   "cell_type": "code",
   "execution_count": null,
   "metadata": {
    "id": "6EG46A15Kgqn"
   },
   "outputs": [],
   "source": []
  },
  {
   "cell_type": "markdown",
   "metadata": {
    "id": "knL5ZY_wKgqn"
   },
   "source": [
    "7) 기초통계량과 분포를 통해서 파악한 내용을 적어 봅시다.\n",
    "\n",
    "보이는 그대로를 넘어, 비즈니스 관점에서 고민하며 적어 봅시다."
   ]
  },
  {
   "cell_type": "code",
   "execution_count": null,
   "metadata": {
    "id": "EgjwO-bPKgqn"
   },
   "outputs": [],
   "source": []
  },
  {
   "cell_type": "markdown",
   "metadata": {
    "id": "n2yxj7EkKgqn"
   },
   "source": [
    "8) 추가 분석해 볼 사항이 있나요?"
   ]
  },
  {
   "cell_type": "code",
   "execution_count": null,
   "metadata": {
    "id": "b5wtT017Kgqn"
   },
   "outputs": [],
   "source": []
  },
  {
   "cell_type": "markdown",
   "metadata": {
    "id": "m5zcg9CCg86m"
   },
   "source": [
    "### ⑦ ShelveLoc"
   ]
  },
  {
   "cell_type": "code",
   "execution_count": null,
   "metadata": {
    "id": "c6MVpcRJKjit"
   },
   "outputs": [],
   "source": []
  },
  {
   "cell_type": "markdown",
   "metadata": {
    "id": "hv2D-_tpKjiu"
   },
   "source": [
    "1) 변수의 비즈니스 의미"
   ]
  },
  {
   "cell_type": "code",
   "execution_count": null,
   "metadata": {
    "id": "-cVCqa-mKjiu"
   },
   "outputs": [],
   "source": []
  },
  {
   "cell_type": "markdown",
   "metadata": {
    "id": "Xb9t9cbeKjiu"
   },
   "source": [
    "2) 숫자, 범주?"
   ]
  },
  {
   "cell_type": "code",
   "execution_count": null,
   "metadata": {
    "id": "EWDBhia-Kjiu"
   },
   "outputs": [],
   "source": []
  },
  {
   "cell_type": "markdown",
   "metadata": {
    "id": "Mea-uPInKjiu"
   },
   "source": [
    "3) NaN 존재 유무 및 조치방안"
   ]
  },
  {
   "cell_type": "code",
   "execution_count": null,
   "metadata": {
    "id": "NgcMXE0rKjiu"
   },
   "outputs": [],
   "source": []
  },
  {
   "cell_type": "markdown",
   "metadata": {
    "id": "sgBl0fieKjiu"
   },
   "source": [
    "4) 가변수화 필요 여부"
   ]
  },
  {
   "cell_type": "code",
   "execution_count": null,
   "metadata": {
    "id": "8gqrADXxKjiu"
   },
   "outputs": [],
   "source": []
  },
  {
   "cell_type": "markdown",
   "metadata": {
    "id": "UQewZ5oUKjiu"
   },
   "source": [
    "5) 기초통계량(수치화)"
   ]
  },
  {
   "cell_type": "code",
   "execution_count": null,
   "metadata": {
    "id": "_P8lo3ZiKjiu"
   },
   "outputs": [],
   "source": []
  },
  {
   "cell_type": "markdown",
   "metadata": {
    "id": "jQwR0pCvKjiu"
   },
   "source": [
    "6) 분포 확인(시각화)"
   ]
  },
  {
   "cell_type": "code",
   "execution_count": null,
   "metadata": {
    "id": "jHWyJ0ldKjiv"
   },
   "outputs": [],
   "source": []
  },
  {
   "cell_type": "markdown",
   "metadata": {
    "id": "32CULvlIKjiv"
   },
   "source": [
    "7) 기초통계량과 분포를 통해서 파악한 내용을 적어 봅시다.\n",
    "\n",
    "보이는 그대로를 넘어, 비즈니스 관점에서 고민하며 적어 봅시다."
   ]
  },
  {
   "cell_type": "code",
   "execution_count": null,
   "metadata": {
    "id": "9vrBq4JsKjiv"
   },
   "outputs": [],
   "source": []
  },
  {
   "cell_type": "markdown",
   "metadata": {
    "id": "pGL1RYnTKjiv"
   },
   "source": [
    "8) 추가 분석해 볼 사항이 있나요?"
   ]
  },
  {
   "cell_type": "code",
   "execution_count": null,
   "metadata": {
    "id": "frlIAW4dKjiv"
   },
   "outputs": [],
   "source": []
  },
  {
   "cell_type": "markdown",
   "metadata": {
    "id": "9sLeiF5Kg9EO"
   },
   "source": [
    "### ⑧ Age"
   ]
  },
  {
   "cell_type": "code",
   "execution_count": null,
   "metadata": {
    "id": "sqtwxfsNKmCs"
   },
   "outputs": [],
   "source": [
    "var = data.Age"
   ]
  },
  {
   "cell_type": "markdown",
   "metadata": {
    "id": "TuU7bNxdKmCs"
   },
   "source": [
    "1) 변수의 비즈니스 의미"
   ]
  },
  {
   "cell_type": "code",
   "execution_count": null,
   "metadata": {
    "id": "BSoS6GuNKmCt"
   },
   "outputs": [],
   "source": []
  },
  {
   "cell_type": "markdown",
   "metadata": {
    "id": "MVHCtxzFKmCt"
   },
   "source": [
    "2) 숫자, 범주?"
   ]
  },
  {
   "cell_type": "code",
   "execution_count": null,
   "metadata": {
    "id": "tpjEqi5xKmCt"
   },
   "outputs": [],
   "source": []
  },
  {
   "cell_type": "markdown",
   "metadata": {
    "id": "_3nntrd5KmCt"
   },
   "source": [
    "3) NaN 존재 유무 및 조치방안"
   ]
  },
  {
   "cell_type": "code",
   "execution_count": null,
   "metadata": {
    "id": "eg86gx2NKmCt"
   },
   "outputs": [],
   "source": []
  },
  {
   "cell_type": "markdown",
   "metadata": {
    "id": "GVeizMaAKmCt"
   },
   "source": [
    "4) 가변수화 필요 여부"
   ]
  },
  {
   "cell_type": "code",
   "execution_count": null,
   "metadata": {
    "id": "O_48L35aKmCt"
   },
   "outputs": [],
   "source": []
  },
  {
   "cell_type": "markdown",
   "metadata": {
    "id": "b8RVXeEJKmCu"
   },
   "source": [
    "5) 기초통계량(수치화)"
   ]
  },
  {
   "cell_type": "code",
   "execution_count": null,
   "metadata": {
    "id": "c76L-g_ZKmCu"
   },
   "outputs": [],
   "source": []
  },
  {
   "cell_type": "markdown",
   "metadata": {
    "id": "9VzjYaeeKmCu"
   },
   "source": [
    "6) 분포 확인(시각화)"
   ]
  },
  {
   "cell_type": "code",
   "execution_count": null,
   "metadata": {
    "id": "UWVDOhwIKmCu"
   },
   "outputs": [],
   "source": []
  },
  {
   "cell_type": "markdown",
   "metadata": {
    "id": "CjgE1YaCKmCu"
   },
   "source": [
    "7) 기초통계량과 분포를 통해서 파악한 내용을 적어 봅시다.\n",
    "\n",
    "보이는 그대로를 넘어, 비즈니스 관점에서 고민하며 적어 봅시다."
   ]
  },
  {
   "cell_type": "code",
   "execution_count": null,
   "metadata": {
    "id": "Eu9Ujy-DKmCu"
   },
   "outputs": [],
   "source": []
  },
  {
   "cell_type": "markdown",
   "metadata": {
    "id": "TOFcMpC5KmCu"
   },
   "source": [
    "8) 추가 분석해 볼 사항이 있나요?"
   ]
  },
  {
   "cell_type": "code",
   "execution_count": null,
   "metadata": {
    "id": "GIEwj9_WKmCu"
   },
   "outputs": [],
   "source": []
  },
  {
   "cell_type": "markdown",
   "metadata": {
    "id": "GmxZa7uvhyXO"
   },
   "source": [
    "### ⑨ Urban"
   ]
  },
  {
   "cell_type": "code",
   "execution_count": null,
   "metadata": {
    "id": "N-6xre6oKpsX"
   },
   "outputs": [],
   "source": []
  },
  {
   "cell_type": "markdown",
   "metadata": {
    "id": "MUHj-ZjPKpsY"
   },
   "source": [
    "1) 변수의 비즈니스 의미"
   ]
  },
  {
   "cell_type": "code",
   "execution_count": null,
   "metadata": {
    "id": "VXSXCpclKpsY"
   },
   "outputs": [],
   "source": []
  },
  {
   "cell_type": "markdown",
   "metadata": {
    "id": "U4y9o3BiKpsY"
   },
   "source": [
    "2) 숫자, 범주?"
   ]
  },
  {
   "cell_type": "code",
   "execution_count": null,
   "metadata": {
    "id": "U4QgpJS3KpsY"
   },
   "outputs": [],
   "source": []
  },
  {
   "cell_type": "markdown",
   "metadata": {
    "id": "eWaErEtzKpsY"
   },
   "source": [
    "3) NaN 존재 유무 및 조치방안"
   ]
  },
  {
   "cell_type": "code",
   "execution_count": null,
   "metadata": {
    "id": "ub4qs3JMKpsY"
   },
   "outputs": [],
   "source": []
  },
  {
   "cell_type": "markdown",
   "metadata": {
    "id": "KcvvXnguKpsY"
   },
   "source": [
    "4) 가변수화 필요 여부"
   ]
  },
  {
   "cell_type": "code",
   "execution_count": null,
   "metadata": {
    "id": "IiYmSmwJKpsY"
   },
   "outputs": [],
   "source": []
  },
  {
   "cell_type": "markdown",
   "metadata": {
    "id": "IHZYI6_kKpsY"
   },
   "source": [
    "5) 기초통계량(수치화)"
   ]
  },
  {
   "cell_type": "code",
   "execution_count": null,
   "metadata": {
    "id": "5QW3EO6YKpsY"
   },
   "outputs": [],
   "source": []
  },
  {
   "cell_type": "markdown",
   "metadata": {
    "id": "oNt25TVyKpsY"
   },
   "source": [
    "6) 분포 확인(시각화)"
   ]
  },
  {
   "cell_type": "code",
   "execution_count": null,
   "metadata": {
    "id": "bfvU0QspKpsZ"
   },
   "outputs": [],
   "source": []
  },
  {
   "cell_type": "markdown",
   "metadata": {
    "id": "iTLAToJgKpsZ"
   },
   "source": [
    "7) 기초통계량과 분포를 통해서 파악한 내용을 적어 봅시다.\n",
    "\n",
    "보이는 그대로를 넘어, 비즈니스 관점에서 고민하며 적어 봅시다."
   ]
  },
  {
   "cell_type": "code",
   "execution_count": null,
   "metadata": {
    "id": "5jWcWidJKpsZ"
   },
   "outputs": [],
   "source": []
  },
  {
   "cell_type": "markdown",
   "metadata": {
    "id": "zG-m1OJ4KpsZ"
   },
   "source": [
    "8) 추가 분석해 볼 사항이 있나요?"
   ]
  },
  {
   "cell_type": "code",
   "execution_count": null,
   "metadata": {
    "id": "w_bEHwcmKpsZ"
   },
   "outputs": [],
   "source": []
  },
  {
   "cell_type": "markdown",
   "metadata": {
    "id": "ieLyLWqehz_N"
   },
   "source": [
    "### ⑩ US"
   ]
  },
  {
   "cell_type": "code",
   "execution_count": null,
   "metadata": {
    "id": "g3Q0U1wwKsOY"
   },
   "outputs": [],
   "source": []
  },
  {
   "cell_type": "markdown",
   "metadata": {
    "id": "dZPB5TuGKsOY"
   },
   "source": [
    "1) 변수의 비즈니스 의미"
   ]
  },
  {
   "cell_type": "code",
   "execution_count": null,
   "metadata": {
    "id": "gybGd3KHKsOY"
   },
   "outputs": [],
   "source": []
  },
  {
   "cell_type": "markdown",
   "metadata": {
    "id": "yr7mtnS5KsOY"
   },
   "source": [
    "2) 숫자, 범주?"
   ]
  },
  {
   "cell_type": "code",
   "execution_count": null,
   "metadata": {
    "id": "ZQkd_7lxKsOZ"
   },
   "outputs": [],
   "source": []
  },
  {
   "cell_type": "markdown",
   "metadata": {
    "id": "hCh697btKsOZ"
   },
   "source": [
    "3) NaN 존재 유무 및 조치방안"
   ]
  },
  {
   "cell_type": "code",
   "execution_count": null,
   "metadata": {
    "id": "xGEg3qrwKsOZ"
   },
   "outputs": [],
   "source": []
  },
  {
   "cell_type": "markdown",
   "metadata": {
    "id": "BONxD54yKsOZ"
   },
   "source": [
    "4) 가변수화 필요 여부"
   ]
  },
  {
   "cell_type": "code",
   "execution_count": null,
   "metadata": {
    "id": "ZBEWhsP5KsOZ"
   },
   "outputs": [],
   "source": []
  },
  {
   "cell_type": "markdown",
   "metadata": {
    "id": "yV61tNLJKsOZ"
   },
   "source": [
    "5) 기초통계량(수치화)"
   ]
  },
  {
   "cell_type": "code",
   "execution_count": null,
   "metadata": {
    "id": "EUckf1C_KsOZ"
   },
   "outputs": [],
   "source": []
  },
  {
   "cell_type": "markdown",
   "metadata": {
    "id": "PS0KIteXKsOZ"
   },
   "source": [
    "6) 분포 확인(시각화)"
   ]
  },
  {
   "cell_type": "code",
   "execution_count": null,
   "metadata": {
    "id": "2a1itzJGKsOZ"
   },
   "outputs": [],
   "source": []
  },
  {
   "cell_type": "markdown",
   "metadata": {
    "id": "K4MRwV9YKsOZ"
   },
   "source": [
    "7) 기초통계량과 분포를 통해서 파악한 내용을 적어 봅시다.\n",
    "\n",
    "보이는 그대로를 넘어, 비즈니스 관점에서 고민하며 적어 봅시다."
   ]
  },
  {
   "cell_type": "code",
   "execution_count": null,
   "metadata": {
    "id": "BRpe4YUzKsOZ"
   },
   "outputs": [],
   "source": []
  },
  {
   "cell_type": "markdown",
   "metadata": {
    "id": "a7Grk8fEKsOZ"
   },
   "source": [
    "8) 추가 분석해 볼 사항이 있나요?"
   ]
  },
  {
   "cell_type": "code",
   "execution_count": null,
   "metadata": {
    "id": "lSrQXEUVKsOZ"
   },
   "outputs": [],
   "source": []
  }
 ],
 "metadata": {
  "colab": {
   "collapsed_sections": [],
   "name": "05과 실전 단변량분석 종합실습.ipynb",
   "provenance": [],
   "toc_visible": true
  },
  "kernelspec": {
   "display_name": "Python 3",
   "language": "python",
   "name": "python3"
  },
  "language_info": {
   "codemirror_mode": {
    "name": "ipython",
    "version": 3
   },
   "file_extension": ".py",
   "mimetype": "text/x-python",
   "name": "python",
   "nbconvert_exporter": "python",
   "pygments_lexer": "ipython3",
   "version": "3.8.8"
  }
 },
 "nbformat": 4,
 "nbformat_minor": 1
}
