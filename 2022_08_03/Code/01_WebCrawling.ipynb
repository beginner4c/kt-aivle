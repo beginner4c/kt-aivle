{
 "cells": [
  {
   "cell_type": "markdown",
   "id": "d4e544be",
   "metadata": {},
   "source": [
    "### WebCrawling\n",
    "# - 웹크롤링의 종류\n",
    "#     - 정적 페이지 : 페이지의 데이터가 변경될 때 URL이 변경 O\n",
    "#     - 동적 페이지 : 페이지의 데이터가 변경될 때 URL이 변경 X\n",
    "#  - Requests Package\n",
    "#     - 브라우저의 URL을 입력하면 서버에서 데이터를 다운받아 화면에 출력 : URL > DATA\n",
    "#     - requests 패키지 : URL > DATA"
   ]
  },
  {
   "cell_type": "markdown",
   "id": "2b201139",
   "metadata": {},
   "source": [
    "### Naver Stock Data\n",
    "#  - Kospi 지수\n",
    "#  - Kosdaq 지수\n",
    "#  - USD :원달러 환율"
   ]
  },
  {
   "cell_type": "code",
   "execution_count": 44,
   "id": "fea00107",
   "metadata": {},
   "outputs": [
    {
     "ename": "SyntaxError",
     "evalue": "invalid syntax (<ipython-input-44-a0eaacf3a44c>, line 3)",
     "output_type": "error",
     "traceback": [
      "\u001b[1;36m  File \u001b[1;32m\"<ipython-input-44-a0eaacf3a44c>\"\u001b[1;36m, line \u001b[1;32m3\u001b[0m\n\u001b[1;33m    import words help(words)\u001b[0m\n\u001b[1;37m                 ^\u001b[0m\n\u001b[1;31mSyntaxError\u001b[0m\u001b[1;31m:\u001b[0m invalid syntax\n"
     ]
    }
   ],
   "source": [
    "import requests\n",
    "import pandas as pd"
   ]
  },
  {
   "cell_type": "code",
   "execution_count": null,
   "id": "5f28ce57",
   "metadata": {},
   "outputs": [],
   "source": [
    "# 1. 웹서비스를 분석 : 크롬 개발자 도구 : URL"
   ]
  },
  {
   "cell_type": "code",
   "execution_count": 19,
   "id": "1eaeabeb",
   "metadata": {},
   "outputs": [],
   "source": [
    "url = \"https://m.stock.naver.com/api/index/KOSPI/price?pageSize=10&page=4\""
   ]
  },
  {
   "cell_type": "code",
   "execution_count": null,
   "id": "6244982e",
   "metadata": {},
   "outputs": [],
   "source": [
    "# 2. Request > response(json) : JSON(str)"
   ]
  },
  {
   "cell_type": "code",
   "execution_count": 20,
   "id": "e3578b89",
   "metadata": {},
   "outputs": [
    {
     "data": {
      "text/plain": [
       "<Response [200]>"
      ]
     },
     "execution_count": 20,
     "metadata": {},
     "output_type": "execute_result"
    }
   ],
   "source": [
    "response = requests.get(url)\n",
    "response"
   ]
  },
  {
   "cell_type": "code",
   "execution_count": 21,
   "id": "466d794f",
   "metadata": {},
   "outputs": [
    {
     "data": {
      "text/plain": [
       "'[{\"localTradedAt\":\"2022-06-22\",\"closePrice\":\"2,342.81\",\"compareToPreviousClosePrice\":\"-66.12\",\"compareToPreviousPrice\":{\"code\":\"5\",\"text\":\"하락\",\"name\":\"FALLING\"},\"fluctuationsRatio\":\"-2.74\",\"openPrice\"'"
      ]
     },
     "execution_count": 21,
     "metadata": {},
     "output_type": "execute_result"
    }
   ],
   "source": [
    "response.text[:200]"
   ]
  },
  {
   "cell_type": "code",
   "execution_count": null,
   "id": "a7832af2",
   "metadata": {},
   "outputs": [],
   "source": [
    "# 3. JSON(str) > list, dict > DataFrame"
   ]
  },
  {
   "cell_type": "code",
   "execution_count": 22,
   "id": "e40c2bcf",
   "metadata": {},
   "outputs": [
    {
     "data": {
      "text/plain": [
       "(list,\n",
       " [{'localTradedAt': '2022-06-22',\n",
       "   'closePrice': '2,342.81',\n",
       "   'compareToPreviousClosePrice': '-66.12',\n",
       "   'compareToPreviousPrice': {'code': '5', 'text': '하락', 'name': 'FALLING'},\n",
       "   'fluctuationsRatio': '-2.74',\n",
       "   'openPrice': '2,417.11',\n",
       "   'highPrice': '2,418.05',\n",
       "   'lowPrice': '2,342.81'},\n",
       "  {'localTradedAt': '2022-06-21',\n",
       "   'closePrice': '2,408.93',\n",
       "   'compareToPreviousClosePrice': '17.90',\n",
       "   'compareToPreviousPrice': {'code': '2', 'text': '상승', 'name': 'RISING'},\n",
       "   'fluctuationsRatio': '0.75',\n",
       "   'openPrice': '2,402.99',\n",
       "   'highPrice': '2,423.48',\n",
       "   'lowPrice': '2,385.60'}])"
      ]
     },
     "execution_count": 22,
     "metadata": {},
     "output_type": "execute_result"
    }
   ],
   "source": [
    "data = response.json()\n",
    "type(data), data[:2]"
   ]
  },
  {
   "cell_type": "code",
   "execution_count": 24,
   "id": "3d46dd47",
   "metadata": {},
   "outputs": [
    {
     "data": {
      "text/html": [
       "<div>\n",
       "<style scoped>\n",
       "    .dataframe tbody tr th:only-of-type {\n",
       "        vertical-align: middle;\n",
       "    }\n",
       "\n",
       "    .dataframe tbody tr th {\n",
       "        vertical-align: top;\n",
       "    }\n",
       "\n",
       "    .dataframe thead th {\n",
       "        text-align: right;\n",
       "    }\n",
       "</style>\n",
       "<table border=\"1\" class=\"dataframe\">\n",
       "  <thead>\n",
       "    <tr style=\"text-align: right;\">\n",
       "      <th></th>\n",
       "      <th>localTradedAt</th>\n",
       "      <th>closePrice</th>\n",
       "    </tr>\n",
       "  </thead>\n",
       "  <tbody>\n",
       "    <tr>\n",
       "      <th>0</th>\n",
       "      <td>2022-06-22</td>\n",
       "      <td>2,342.81</td>\n",
       "    </tr>\n",
       "    <tr>\n",
       "      <th>1</th>\n",
       "      <td>2022-06-21</td>\n",
       "      <td>2,408.93</td>\n",
       "    </tr>\n",
       "    <tr>\n",
       "      <th>2</th>\n",
       "      <td>2022-06-20</td>\n",
       "      <td>2,391.03</td>\n",
       "    </tr>\n",
       "    <tr>\n",
       "      <th>3</th>\n",
       "      <td>2022-06-17</td>\n",
       "      <td>2,440.93</td>\n",
       "    </tr>\n",
       "    <tr>\n",
       "      <th>4</th>\n",
       "      <td>2022-06-16</td>\n",
       "      <td>2,451.41</td>\n",
       "    </tr>\n",
       "    <tr>\n",
       "      <th>5</th>\n",
       "      <td>2022-06-15</td>\n",
       "      <td>2,447.38</td>\n",
       "    </tr>\n",
       "    <tr>\n",
       "      <th>6</th>\n",
       "      <td>2022-06-14</td>\n",
       "      <td>2,492.97</td>\n",
       "    </tr>\n",
       "    <tr>\n",
       "      <th>7</th>\n",
       "      <td>2022-06-13</td>\n",
       "      <td>2,504.51</td>\n",
       "    </tr>\n",
       "    <tr>\n",
       "      <th>8</th>\n",
       "      <td>2022-06-10</td>\n",
       "      <td>2,595.87</td>\n",
       "    </tr>\n",
       "    <tr>\n",
       "      <th>9</th>\n",
       "      <td>2022-06-09</td>\n",
       "      <td>2,625.44</td>\n",
       "    </tr>\n",
       "  </tbody>\n",
       "</table>\n",
       "</div>"
      ],
      "text/plain": [
       "  localTradedAt closePrice\n",
       "0    2022-06-22   2,342.81\n",
       "1    2022-06-21   2,408.93\n",
       "2    2022-06-20   2,391.03\n",
       "3    2022-06-17   2,440.93\n",
       "4    2022-06-16   2,451.41\n",
       "5    2022-06-15   2,447.38\n",
       "6    2022-06-14   2,492.97\n",
       "7    2022-06-13   2,504.51\n",
       "8    2022-06-10   2,595.87\n",
       "9    2022-06-09   2,625.44"
      ]
     },
     "execution_count": 24,
     "metadata": {},
     "output_type": "execute_result"
    }
   ],
   "source": [
    "df = pd.DataFrame(data)[[\"localTradedAt\", \"closePrice\"]]\n",
    "df"
   ]
  },
  {
   "cell_type": "code",
   "execution_count": null,
   "id": "ca4589bd",
   "metadata": {},
   "outputs": [],
   "source": [
    "# 4. 함수 만들기\n",
    "# params : pagesize, page"
   ]
  },
  {
   "cell_type": "code",
   "execution_count": 27,
   "id": "d825f85a",
   "metadata": {},
   "outputs": [],
   "source": [
    "def stock_price(pagesize, page) :\n",
    "    url = f\"https://m.stock.naver.com/api/index/KOSPI/price?pageSize={pagesize}&page={page}\"\n",
    "    response = requests.get(url)\n",
    "    data = response.json()\n",
    "    return pd.DataFrame(data)[[\"localTradedAt\",\"closePrice\"]]"
   ]
  },
  {
   "cell_type": "code",
   "execution_count": 28,
   "id": "33b549b1",
   "metadata": {},
   "outputs": [
    {
     "data": {
      "text/html": [
       "<div>\n",
       "<style scoped>\n",
       "    .dataframe tbody tr th:only-of-type {\n",
       "        vertical-align: middle;\n",
       "    }\n",
       "\n",
       "    .dataframe tbody tr th {\n",
       "        vertical-align: top;\n",
       "    }\n",
       "\n",
       "    .dataframe thead th {\n",
       "        text-align: right;\n",
       "    }\n",
       "</style>\n",
       "<table border=\"1\" class=\"dataframe\">\n",
       "  <thead>\n",
       "    <tr style=\"text-align: right;\">\n",
       "      <th></th>\n",
       "      <th>localTradedAt</th>\n",
       "      <th>closePrice</th>\n",
       "    </tr>\n",
       "  </thead>\n",
       "  <tbody>\n",
       "    <tr>\n",
       "      <th>28</th>\n",
       "      <td>2022-05-11</td>\n",
       "      <td>2,592.27</td>\n",
       "    </tr>\n",
       "    <tr>\n",
       "      <th>29</th>\n",
       "      <td>2022-05-10</td>\n",
       "      <td>2,596.56</td>\n",
       "    </tr>\n",
       "  </tbody>\n",
       "</table>\n",
       "</div>"
      ],
      "text/plain": [
       "   localTradedAt closePrice\n",
       "28    2022-05-11   2,592.27\n",
       "29    2022-05-10   2,596.56"
      ]
     },
     "execution_count": 28,
     "metadata": {},
     "output_type": "execute_result"
    }
   ],
   "source": [
    "df = stock_price(30, 2)\n",
    "df.tail(2)"
   ]
  },
  {
   "cell_type": "code",
   "execution_count": null,
   "id": "012c7e50",
   "metadata": {},
   "outputs": [],
   "source": [
    "# KOSDAQ 데이터 수집 코드 작성"
   ]
  },
  {
   "cell_type": "code",
   "execution_count": null,
   "id": "860a9e7a",
   "metadata": {},
   "outputs": [],
   "source": [
    "# 1. 웹서비스 분석 : URL"
   ]
  },
  {
   "cell_type": "code",
   "execution_count": null,
   "id": "5812e287",
   "metadata": {},
   "outputs": [],
   "source": [
    "url = \"https://m.stock.naver.com/api/index/KOSDAQ/price?pageSize=10&page=2\""
   ]
  },
  {
   "cell_type": "code",
   "execution_count": null,
   "id": "4219ed03",
   "metadata": {},
   "outputs": [],
   "source": [
    "# 2. request(url) > response(json) > JSON(str)"
   ]
  },
  {
   "cell_type": "code",
   "execution_count": 30,
   "id": "312edc9f",
   "metadata": {},
   "outputs": [
    {
     "data": {
      "text/plain": [
       "<Response [200]>"
      ]
     },
     "execution_count": 30,
     "metadata": {},
     "output_type": "execute_result"
    }
   ],
   "source": [
    "response = requests.get(url)\n",
    "response"
   ]
  },
  {
   "cell_type": "code",
   "execution_count": 31,
   "id": "4b641a4f",
   "metadata": {},
   "outputs": [
    {
     "data": {
      "text/plain": [
       "'[{\"localTradedAt\":\"2022-06-22\",\"closePrice\":\"2,342.81\",\"compareToPreviousClosePrice\":\"-66.12\",\"compareToPreviousPrice\":{\"code\":\"5\",\"text\":\"하락\",\"name\":\"FALLING\"},\"fluctuationsRatio\":\"-2.74\",\"openPrice\"'"
      ]
     },
     "execution_count": 31,
     "metadata": {},
     "output_type": "execute_result"
    }
   ],
   "source": [
    "response.text[:200]"
   ]
  },
  {
   "cell_type": "code",
   "execution_count": null,
   "id": "d817dde9",
   "metadata": {},
   "outputs": [],
   "source": [
    "# 3. JSON(str) > list, dict > DataFrame"
   ]
  },
  {
   "cell_type": "code",
   "execution_count": 34,
   "id": "8b85f659",
   "metadata": {},
   "outputs": [
    {
     "data": {
      "text/plain": [
       "(list,\n",
       " [{'localTradedAt': '2022-06-22',\n",
       "   'closePrice': '2,342.81',\n",
       "   'compareToPreviousClosePrice': '-66.12',\n",
       "   'compareToPreviousPrice': {'code': '5', 'text': '하락', 'name': 'FALLING'},\n",
       "   'fluctuationsRatio': '-2.74',\n",
       "   'openPrice': '2,417.11',\n",
       "   'highPrice': '2,418.05',\n",
       "   'lowPrice': '2,342.81'},\n",
       "  {'localTradedAt': '2022-06-21',\n",
       "   'closePrice': '2,408.93',\n",
       "   'compareToPreviousClosePrice': '17.90',\n",
       "   'compareToPreviousPrice': {'code': '2', 'text': '상승', 'name': 'RISING'},\n",
       "   'fluctuationsRatio': '0.75',\n",
       "   'openPrice': '2,402.99',\n",
       "   'highPrice': '2,423.48',\n",
       "   'lowPrice': '2,385.60'}])"
      ]
     },
     "execution_count": 34,
     "metadata": {},
     "output_type": "execute_result"
    }
   ],
   "source": [
    "data = response.json()\n",
    "type(data), data[:2]"
   ]
  },
  {
   "cell_type": "code",
   "execution_count": 36,
   "id": "7036010d",
   "metadata": {},
   "outputs": [
    {
     "data": {
      "text/html": [
       "<div>\n",
       "<style scoped>\n",
       "    .dataframe tbody tr th:only-of-type {\n",
       "        vertical-align: middle;\n",
       "    }\n",
       "\n",
       "    .dataframe tbody tr th {\n",
       "        vertical-align: top;\n",
       "    }\n",
       "\n",
       "    .dataframe thead th {\n",
       "        text-align: right;\n",
       "    }\n",
       "</style>\n",
       "<table border=\"1\" class=\"dataframe\">\n",
       "  <thead>\n",
       "    <tr style=\"text-align: right;\">\n",
       "      <th></th>\n",
       "      <th>localTradedAt</th>\n",
       "      <th>closePrice</th>\n",
       "    </tr>\n",
       "  </thead>\n",
       "  <tbody>\n",
       "    <tr>\n",
       "      <th>8</th>\n",
       "      <td>2022-06-10</td>\n",
       "      <td>2,595.87</td>\n",
       "    </tr>\n",
       "    <tr>\n",
       "      <th>9</th>\n",
       "      <td>2022-06-09</td>\n",
       "      <td>2,625.44</td>\n",
       "    </tr>\n",
       "  </tbody>\n",
       "</table>\n",
       "</div>"
      ],
      "text/plain": [
       "  localTradedAt closePrice\n",
       "8    2022-06-10   2,595.87\n",
       "9    2022-06-09   2,625.44"
      ]
     },
     "execution_count": 36,
     "metadata": {},
     "output_type": "execute_result"
    }
   ],
   "source": [
    "df = pd.DataFrame(data)[[\"localTradedAt\",\"closePrice\"]]\n",
    "df.tail(2)"
   ]
  },
  {
   "cell_type": "code",
   "execution_count": 46,
   "id": "8f84cd33",
   "metadata": {},
   "outputs": [],
   "source": [
    "def stock_price(pagesize, page, code=\"KOSPI\") :\n",
    "    \"\"\"\n",
    "    This function is crawling stock price from naver sebpage.\n",
    "    Parameters\n",
    "    -------\n",
    "    pagesize : int : one page size\n",
    "    page : int : page number\n",
    "    code : str : KOSPI or KOSDAQ\n",
    "    \n",
    "    Return\n",
    "    -------\n",
    "    type : DataFrame : display date, price columns\n",
    "    \"\"\"\n",
    "    url = f\"https://m.stock.naver.com/api/index/{code}/price?pageSize={pagesize}&page={page}\"\n",
    "    response = requests.get(url)\n",
    "    data = response.json()\n",
    "    return pd.DataFrame(data)[[\"localTradedAt\",\"closePrice\"]]"
   ]
  },
  {
   "cell_type": "code",
   "execution_count": 41,
   "id": "da59cb59",
   "metadata": {},
   "outputs": [
    {
     "data": {
      "text/html": [
       "<div>\n",
       "<style scoped>\n",
       "    .dataframe tbody tr th:only-of-type {\n",
       "        vertical-align: middle;\n",
       "    }\n",
       "\n",
       "    .dataframe tbody tr th {\n",
       "        vertical-align: top;\n",
       "    }\n",
       "\n",
       "    .dataframe thead th {\n",
       "        text-align: right;\n",
       "    }\n",
       "</style>\n",
       "<table border=\"1\" class=\"dataframe\">\n",
       "  <thead>\n",
       "    <tr style=\"text-align: right;\">\n",
       "      <th></th>\n",
       "      <th>localTradedAt</th>\n",
       "      <th>closePrice</th>\n",
       "    </tr>\n",
       "  </thead>\n",
       "  <tbody>\n",
       "    <tr>\n",
       "      <th>28</th>\n",
       "      <td>2022-05-11</td>\n",
       "      <td>866.34</td>\n",
       "    </tr>\n",
       "    <tr>\n",
       "      <th>29</th>\n",
       "      <td>2022-05-10</td>\n",
       "      <td>856.14</td>\n",
       "    </tr>\n",
       "  </tbody>\n",
       "</table>\n",
       "</div>"
      ],
      "text/plain": [
       "   localTradedAt closePrice\n",
       "28    2022-05-11     866.34\n",
       "29    2022-05-10     856.14"
      ]
     },
     "execution_count": 41,
     "metadata": {},
     "output_type": "execute_result"
    }
   ],
   "source": [
    "df = stock_price(30, 2, \"KOSDAQ\")\n",
    "df.tail(2)"
   ]
  },
  {
   "cell_type": "code",
   "execution_count": null,
   "id": "2e4ce9d9",
   "metadata": {},
   "outputs": [],
   "source": [
    "# stock_price(10,1,\"KOSDQA\")"
   ]
  },
  {
   "cell_type": "code",
   "execution_count": 42,
   "id": "530de645",
   "metadata": {},
   "outputs": [],
   "source": [
    "kospi = stock_price(60, 1, \"KOSPI\")\n",
    "kosdaq = stock_price(60, 1, \"KOSDAQ\")"
   ]
  },
  {
   "cell_type": "code",
   "execution_count": 47,
   "id": "71a42734",
   "metadata": {},
   "outputs": [
    {
     "name": "stdout",
     "output_type": "stream",
     "text": [
      "Help on function stock_price in module __main__:\n",
      "\n",
      "stock_price(pagesize, page, code='KOSPI')\n",
      "    This function is crawling stock price from naver sebpage.\n",
      "    Parameters\n",
      "    -------\n",
      "    pagesize : int : one page size\n",
      "    page : int : page number\n",
      "    code : str : KOSPI or KOSDAQ\n",
      "    \n",
      "    Return\n",
      "    -------\n",
      "    type : DataFrame : display date, price columns\n",
      "\n"
     ]
    }
   ],
   "source": [
    "# docstring : 함수를 사용하는 방법을 문자열로 작성\n",
    "# help(), shift + tab\n",
    "help(stock_price)"
   ]
  },
  {
   "cell_type": "code",
   "execution_count": null,
   "id": "92534163",
   "metadata": {},
   "outputs": [],
   "source": [
    "### 원달러 환율 수집\n",
    " - https://m.stock.naver.com > 시장지표 > 미국 USD > 일별시세(더보기)"
   ]
  },
  {
   "cell_type": "code",
   "execution_count": null,
   "id": "cc7a6788",
   "metadata": {},
   "outputs": [],
   "source": [
    "# 최근 60일 치 원달러 환율 데이터 수집"
   ]
  },
  {
   "cell_type": "code",
   "execution_count": 70,
   "id": "f4c3b04a",
   "metadata": {},
   "outputs": [],
   "source": [
    "# 1. 웹서비스 분석 : URL\n",
    "page, pageSize = 1, 60\n",
    "URL = f\"https://api.stock.naver.com/marketindex/exchange/FX_USDKRW/prices?page={page}&pageSize={pageSize}\""
   ]
  },
  {
   "cell_type": "code",
   "execution_count": null,
   "id": "425a25b7",
   "metadata": {},
   "outputs": [],
   "source": [
    "# 2. request(url) > response(json) : JSON(str)"
   ]
  },
  {
   "cell_type": "code",
   "execution_count": 71,
   "id": "fdc930d0",
   "metadata": {},
   "outputs": [
    {
     "data": {
      "text/plain": [
       "<Response [200]>"
      ]
     },
     "execution_count": 71,
     "metadata": {},
     "output_type": "execute_result"
    }
   ],
   "source": [
    "response = requests.get(URL)\n",
    "response"
   ]
  },
  {
   "cell_type": "code",
   "execution_count": 72,
   "id": "73426002",
   "metadata": {},
   "outputs": [
    {
     "data": {
      "text/plain": [
       "'[{\"localTradedAt\":\"2022-08-03\",\"closePrice\":\"1,309.20\",\"fluctuations\":\"-2.80\",\"fluctuationsRatio\":\"-0.21\",\"fluctuationsType\":{\"code\":\"5\",\"text\":\"하락\",\"name\":\"FALLING\"},\"cashBuyValue\":\"1,332.11\",\"cashSe'"
      ]
     },
     "execution_count": 72,
     "metadata": {},
     "output_type": "execute_result"
    }
   ],
   "source": [
    "response.text[:200]"
   ]
  },
  {
   "cell_type": "code",
   "execution_count": null,
   "id": "3e672da0",
   "metadata": {},
   "outputs": [],
   "source": [
    "# 3. JSON(str) > list, dict > DataFrame"
   ]
  },
  {
   "cell_type": "code",
   "execution_count": 73,
   "id": "e2e41f34",
   "metadata": {},
   "outputs": [
    {
     "data": {
      "text/html": [
       "<div>\n",
       "<style scoped>\n",
       "    .dataframe tbody tr th:only-of-type {\n",
       "        vertical-align: middle;\n",
       "    }\n",
       "\n",
       "    .dataframe tbody tr th {\n",
       "        vertical-align: top;\n",
       "    }\n",
       "\n",
       "    .dataframe thead th {\n",
       "        text-align: right;\n",
       "    }\n",
       "</style>\n",
       "<table border=\"1\" class=\"dataframe\">\n",
       "  <thead>\n",
       "    <tr style=\"text-align: right;\">\n",
       "      <th></th>\n",
       "      <th>localTradedAt</th>\n",
       "      <th>closePrice</th>\n",
       "    </tr>\n",
       "  </thead>\n",
       "  <tbody>\n",
       "    <tr>\n",
       "      <th>58</th>\n",
       "      <td>2022-05-11</td>\n",
       "      <td>1,274.50</td>\n",
       "    </tr>\n",
       "    <tr>\n",
       "      <th>59</th>\n",
       "      <td>2022-05-10</td>\n",
       "      <td>1,276.00</td>\n",
       "    </tr>\n",
       "  </tbody>\n",
       "</table>\n",
       "</div>"
      ],
      "text/plain": [
       "   localTradedAt closePrice\n",
       "58    2022-05-11   1,274.50\n",
       "59    2022-05-10   1,276.00"
      ]
     },
     "execution_count": 73,
     "metadata": {},
     "output_type": "execute_result"
    }
   ],
   "source": [
    "data = response.json()\n",
    "type(data), data[:2]\n",
    "usd = pd.DataFrame(data)[[\"localTradedAt\", \"closePrice\"]]\n",
    "usd.tail(2)"
   ]
  },
  {
   "cell_type": "code",
   "execution_count": null,
   "id": "4b88f107",
   "metadata": {},
   "outputs": [],
   "source": [
    "# 데이터 분석\n",
    "# 상관관계분석 : 두 데이터 집합 사이에 어떤 관계가 있는지 확인하는 분석방법\n",
    "# 원달러 환율이 높으면 코스피, 코스닥 지수가 낮다. > 음의 상관관계를 갖는다"
   ]
  },
  {
   "cell_type": "code",
   "execution_count": null,
   "id": "9c442dcc",
   "metadata": {},
   "outputs": [],
   "source": [
    "# 피어슨 상관계수 : df.corr()\n",
    "# 1과 가까울수록 강한 양의 상관관계를 갖는다.\n",
    "# -1과 가까울수록 강한 음의 상관관계를 갖는다.\n",
    "# 0과 가까울수록 관계가 없다."
   ]
  },
  {
   "cell_type": "code",
   "execution_count": 76,
   "id": "b649ccbc",
   "metadata": {},
   "outputs": [
    {
     "data": {
      "text/html": [
       "<div>\n",
       "<style scoped>\n",
       "    .dataframe tbody tr th:only-of-type {\n",
       "        vertical-align: middle;\n",
       "    }\n",
       "\n",
       "    .dataframe tbody tr th {\n",
       "        vertical-align: top;\n",
       "    }\n",
       "\n",
       "    .dataframe thead th {\n",
       "        text-align: right;\n",
       "    }\n",
       "</style>\n",
       "<table border=\"1\" class=\"dataframe\">\n",
       "  <thead>\n",
       "    <tr style=\"text-align: right;\">\n",
       "      <th></th>\n",
       "      <th>localTradedAt</th>\n",
       "      <th>kospi</th>\n",
       "      <th>kosdaq</th>\n",
       "      <th>usd</th>\n",
       "    </tr>\n",
       "  </thead>\n",
       "  <tbody>\n",
       "    <tr>\n",
       "      <th>58</th>\n",
       "      <td>2022-05-11</td>\n",
       "      <td>2,592.27</td>\n",
       "      <td>866.34</td>\n",
       "      <td>1,274.50</td>\n",
       "    </tr>\n",
       "    <tr>\n",
       "      <th>59</th>\n",
       "      <td>2022-05-10</td>\n",
       "      <td>2,596.56</td>\n",
       "      <td>856.14</td>\n",
       "      <td>1,276.00</td>\n",
       "    </tr>\n",
       "  </tbody>\n",
       "</table>\n",
       "</div>"
      ],
      "text/plain": [
       "   localTradedAt     kospi  kosdaq       usd\n",
       "58    2022-05-11  2,592.27  866.34  1,274.50\n",
       "59    2022-05-10  2,596.56  856.14  1,276.00"
      ]
     },
     "execution_count": 76,
     "metadata": {},
     "output_type": "execute_result"
    }
   ],
   "source": [
    "# 데이터 전처리\n",
    "df = kospi.copy()\n",
    "df[\"kosdaq\"] = kosdaq[\"closePrice\"]\n",
    "df[\"usd\"] = usd[\"closePrice\"]\n",
    "df = df.rename(columns={\"closePrice\" : \"kospi\"})\n",
    "df.tail(2)"
   ]
  },
  {
   "cell_type": "code",
   "execution_count": 82,
   "id": "59f71290",
   "metadata": {},
   "outputs": [
    {
     "data": {
      "text/plain": [
       "localTradedAt     object\n",
       "kospi            float64\n",
       "kosdaq           float64\n",
       "usd              float64\n",
       "dtype: object"
      ]
     },
     "execution_count": 82,
     "metadata": {},
     "output_type": "execute_result"
    }
   ],
   "source": [
    "# 컬럼의 데이터 타입 변경 : str > float\n",
    "# df[column].apply() : 모든 데이터를 함수에 대입한 결과를 출력\n",
    "df[\"kospi\"] = df[\"kospi\"].apply(lambda data : float(data.replace(\",\", \"\")))\n",
    "df[\"kosdaq\"] = df[\"kosdaq\"].apply(lambda data : float(data.replace(\",\", \"\")))\n",
    "df[\"usd\"] = df[\"usd\"].apply(lambda data : float(data.replace(\",\", \"\")))\n",
    "df.dtypes"
   ]
  },
  {
   "cell_type": "code",
   "execution_count": 83,
   "id": "f845afb2",
   "metadata": {},
   "outputs": [
    {
     "data": {
      "text/html": [
       "<div>\n",
       "<style scoped>\n",
       "    .dataframe tbody tr th:only-of-type {\n",
       "        vertical-align: middle;\n",
       "    }\n",
       "\n",
       "    .dataframe tbody tr th {\n",
       "        vertical-align: top;\n",
       "    }\n",
       "\n",
       "    .dataframe thead th {\n",
       "        text-align: right;\n",
       "    }\n",
       "</style>\n",
       "<table border=\"1\" class=\"dataframe\">\n",
       "  <thead>\n",
       "    <tr style=\"text-align: right;\">\n",
       "      <th></th>\n",
       "      <th>kospi</th>\n",
       "      <th>kosdaq</th>\n",
       "      <th>usd</th>\n",
       "    </tr>\n",
       "  </thead>\n",
       "  <tbody>\n",
       "    <tr>\n",
       "      <th>kospi</th>\n",
       "      <td>1.000000</td>\n",
       "      <td>0.984067</td>\n",
       "      <td>-0.878465</td>\n",
       "    </tr>\n",
       "    <tr>\n",
       "      <th>kosdaq</th>\n",
       "      <td>0.984067</td>\n",
       "      <td>1.000000</td>\n",
       "      <td>-0.821585</td>\n",
       "    </tr>\n",
       "    <tr>\n",
       "      <th>usd</th>\n",
       "      <td>-0.878465</td>\n",
       "      <td>-0.821585</td>\n",
       "      <td>1.000000</td>\n",
       "    </tr>\n",
       "  </tbody>\n",
       "</table>\n",
       "</div>"
      ],
      "text/plain": [
       "           kospi    kosdaq       usd\n",
       "kospi   1.000000  0.984067 -0.878465\n",
       "kosdaq  0.984067  1.000000 -0.821585\n",
       "usd    -0.878465 -0.821585  1.000000"
      ]
     },
     "execution_count": 83,
     "metadata": {},
     "output_type": "execute_result"
    }
   ],
   "source": [
    "# corr 를 확인하기 위해서는 자료형이 숫자 데이터여야 한다\n",
    "df[[\"kospi\",\"kosdaq\",'usd']].corr()"
   ]
  },
  {
   "cell_type": "code",
   "execution_count": null,
   "id": "13405661",
   "metadata": {},
   "outputs": [],
   "source": [
    "# kospi - kosdaq : 0.984 : 1과 가까우면 양의 상관관계\n",
    "# kospi - usd : -0.878 : -1과 가까우면 강한 음의 상관관계"
   ]
  },
  {
   "cell_type": "code",
   "execution_count": null,
   "id": "ab70b1db",
   "metadata": {},
   "outputs": [],
   "source": [
    "# copy, apply, lambda"
   ]
  },
  {
   "cell_type": "code",
   "execution_count": 86,
   "id": "523a5eeb",
   "metadata": {},
   "outputs": [
    {
     "name": "stdout",
     "output_type": "stream",
     "text": [
      "[1, 2, 3] [1, 2, 3] [1, 2, 3]\n",
      "[1, 4, 3] [1, 4, 3] [1, 2, 3]\n"
     ]
    }
   ],
   "source": [
    "# copy()\n",
    "data1 = [1, 2, 3]\n",
    "data2 = data1 # shallow copy\n",
    "data3 = data1.copy() # deep copy\n",
    "print(data1, data2, data3)\n",
    "data1[1] = 4\n",
    "print(data1, data2, data3)"
   ]
  },
  {
   "cell_type": "code",
   "execution_count": 87,
   "id": "0df5aba5",
   "metadata": {},
   "outputs": [
    {
     "data": {
      "text/html": [
       "<div>\n",
       "<style scoped>\n",
       "    .dataframe tbody tr th:only-of-type {\n",
       "        vertical-align: middle;\n",
       "    }\n",
       "\n",
       "    .dataframe tbody tr th {\n",
       "        vertical-align: top;\n",
       "    }\n",
       "\n",
       "    .dataframe thead th {\n",
       "        text-align: right;\n",
       "    }\n",
       "</style>\n",
       "<table border=\"1\" class=\"dataframe\">\n",
       "  <thead>\n",
       "    <tr style=\"text-align: right;\">\n",
       "      <th></th>\n",
       "      <th>age</th>\n",
       "    </tr>\n",
       "  </thead>\n",
       "  <tbody>\n",
       "    <tr>\n",
       "      <th>0</th>\n",
       "      <td>23</td>\n",
       "    </tr>\n",
       "    <tr>\n",
       "      <th>1</th>\n",
       "      <td>36</td>\n",
       "    </tr>\n",
       "    <tr>\n",
       "      <th>2</th>\n",
       "      <td>27</td>\n",
       "    </tr>\n",
       "  </tbody>\n",
       "</table>\n",
       "</div>"
      ],
      "text/plain": [
       "   age\n",
       "0   23\n",
       "1   36\n",
       "2   27"
      ]
     },
     "execution_count": 87,
     "metadata": {},
     "output_type": "execute_result"
    }
   ],
   "source": [
    "# apply(func) : 모든 데이터를 func을 적용시킨 결과 출력\n",
    "df = pd.DataFrame([{\"age\":23}, {\"age\" : 36}, {\"age\" : 27}])\n",
    "df"
   ]
  },
  {
   "cell_type": "code",
   "execution_count": 88,
   "id": "26411fbf",
   "metadata": {},
   "outputs": [],
   "source": [
    "# 연령대 컬럼을 추가\n",
    "def change_ages(age) :\n",
    "    return age // 10 * 10"
   ]
  },
  {
   "cell_type": "code",
   "execution_count": 90,
   "id": "8a6d647f",
   "metadata": {},
   "outputs": [
    {
     "data": {
      "text/plain": [
       "0    23\n",
       "1    36\n",
       "2    27\n",
       "Name: age, dtype: int64"
      ]
     },
     "execution_count": 90,
     "metadata": {},
     "output_type": "execute_result"
    }
   ],
   "source": [
    "df[\"age\"]"
   ]
  },
  {
   "cell_type": "code",
   "execution_count": 91,
   "id": "f5bbf294",
   "metadata": {},
   "outputs": [
    {
     "data": {
      "text/plain": [
       "0    20\n",
       "1    30\n",
       "2    20\n",
       "Name: age, dtype: int64"
      ]
     },
     "execution_count": 91,
     "metadata": {},
     "output_type": "execute_result"
    }
   ],
   "source": [
    "df[\"age\"].apply(change_ages)"
   ]
  },
  {
   "cell_type": "code",
   "execution_count": 92,
   "id": "d844c567",
   "metadata": {},
   "outputs": [],
   "source": [
    "# lambda : 일회성 함수\n",
    "# 사용이유 : 간단한 함수를 메모리를 절약하여 사용"
   ]
  },
  {
   "cell_type": "code",
   "execution_count": 93,
   "id": "b1a161fe",
   "metadata": {},
   "outputs": [],
   "source": [
    "def plus(n1, n2):\n",
    "    return n1 + n2\n",
    "\n",
    "def minus(n1, n2):\n",
    "    return n1 - n2\n",
    "\n",
    "def calc(func, n1, n2):\n",
    "    return func(n1, n2)\n"
   ]
  },
  {
   "cell_type": "code",
   "execution_count": 94,
   "id": "877082a9",
   "metadata": {},
   "outputs": [
    {
     "data": {
      "text/plain": [
       "(3, -1)"
      ]
     },
     "execution_count": 94,
     "metadata": {},
     "output_type": "execute_result"
    }
   ],
   "source": [
    "calc(plus, 1, 2), calc(minus, 1, 2)"
   ]
  },
  {
   "cell_type": "code",
   "execution_count": 95,
   "id": "f2d30779",
   "metadata": {},
   "outputs": [
    {
     "data": {
      "text/plain": [
       "(5, 5)"
      ]
     },
     "execution_count": 95,
     "metadata": {},
     "output_type": "execute_result"
    }
   ],
   "source": [
    "plus_lambda = lambda n1, n2 : n1 + n2\n",
    "plus(2, 3), plus_lambda(2, 3)"
   ]
  },
  {
   "cell_type": "code",
   "execution_count": 96,
   "id": "beba82bf",
   "metadata": {},
   "outputs": [
    {
     "data": {
      "text/plain": [
       "(3, -1)"
      ]
     },
     "execution_count": 96,
     "metadata": {},
     "output_type": "execute_result"
    }
   ],
   "source": [
    "# 함수 1개 사용, 메모리 1칸 사용\n",
    "calc(lambda n1, n2 : n1 + n2, 1, 2), calc(lambda n1, n2 : n1 - n2, 1, 2)"
   ]
  },
  {
   "cell_type": "code",
   "execution_count": null,
   "id": "87186d85",
   "metadata": {},
   "outputs": [],
   "source": [
    "# summary\n",
    "# 웹페이지의 종류\n",
    "# - 정적페이지 : 데이터가 변경될 때 URL 변경 O : HTML\n",
    "# - 동적페이지 : 데이터가 변경될 때 URL 변경 X : JSON\n",
    "\n",
    "# 웹크롤링 절차\n",
    "# 1. 웹서비스 분석 : 크롬 개발자 도구 : URL\n",
    "# 2. Request > response(json) : JSON(str)\n",
    "# 3. JSON(str) > list, dict > DataFrame"
   ]
  }
 ],
 "metadata": {
  "kernelspec": {
   "display_name": "Python 3",
   "language": "python",
   "name": "python3"
  },
  "language_info": {
   "codemirror_mode": {
    "name": "ipython",
    "version": 3
   },
   "file_extension": ".py",
   "mimetype": "text/x-python",
   "name": "python",
   "nbconvert_exporter": "python",
   "pygments_lexer": "ipython3",
   "version": "3.8.8"
  }
 },
 "nbformat": 4,
 "nbformat_minor": 5
}
