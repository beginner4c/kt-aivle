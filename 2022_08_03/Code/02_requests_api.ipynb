{
 "cells": [
  {
   "cell_type": "code",
   "execution_count": null,
   "id": "f4c99f77",
   "metadata": {},
   "outputs": [],
   "source": [
    "### API\n",
    "# - Application Programming Interface\n",
    "# - api를 사용해서 데이터를 수집하는 것은 서비스에 데이터를 제공하는 공식적인 방법으로 데이터 수집\n",
    "# naver api : papago api : 번역 서비스"
   ]
  },
  {
   "cell_type": "code",
   "execution_count": 1,
   "id": "30649ab8",
   "metadata": {},
   "outputs": [],
   "source": [
    "import pandas as pd\n",
    "import requests, json"
   ]
  },
  {
   "cell_type": "code",
   "execution_count": null,
   "id": "aac236f0",
   "metadata": {},
   "outputs": [],
   "source": [
    "# 1. APP 등록 > app_key(request_token)"
   ]
  },
  {
   "cell_type": "code",
   "execution_count": 4,
   "id": "567711b3",
   "metadata": {},
   "outputs": [],
   "source": [
    "CLIENT_ID, CLIENT_SECRET = \"fE_N729KbMgvglwdH4uR\", \"sP7q8aYRsT\""
   ]
  },
  {
   "cell_type": "code",
   "execution_count": null,
   "id": "f1c5d0ed",
   "metadata": {},
   "outputs": [],
   "source": [
    "# 2. Naver api Documnet 확인 > URL"
   ]
  },
  {
   "cell_type": "code",
   "execution_count": 5,
   "id": "af482750",
   "metadata": {},
   "outputs": [],
   "source": [
    "url = \"https://openapi.naver.com/v1/papago/n2mt\"\n",
    "txt = \"파이썬은 재미있습니다\"\n",
    "params = {\"source\":\"ko\", \"target\":\"en\", \"text\":txt}\n",
    "headers = {\"Content-Type\":\"application/json\",\n",
    "          \"X-Naver-Client-Id\":CLIENT_ID,\n",
    "          \"X-Naver-Client-Secret\":CLIENT_SECRET\n",
    "          }"
   ]
  },
  {
   "cell_type": "code",
   "execution_count": null,
   "id": "70f0b1b6",
   "metadata": {},
   "outputs": [],
   "source": [
    "# 3. request(url, app_key) > response(json) : JSON(str)"
   ]
  },
  {
   "cell_type": "code",
   "execution_count": null,
   "id": "8bc223eb",
   "metadata": {},
   "outputs": [],
   "source": [
    "# json.dumps()\n",
    "# 인터넷 트래픽에서는 영문, 숫자, 특수문자만 사용가능\n",
    "# 한글과 같은 문자를 인코딩(영문, 숫자, 특수문자)"
   ]
  },
  {
   "cell_type": "code",
   "execution_count": 6,
   "id": "3efe0332",
   "metadata": {},
   "outputs": [
    {
     "data": {
      "text/plain": [
       "<Response [200]>"
      ]
     },
     "execution_count": 6,
     "metadata": {},
     "output_type": "execute_result"
    }
   ],
   "source": [
    "response = requests.post(url, json.dumps(params), headers=headers)\n",
    "response"
   ]
  },
  {
   "cell_type": "code",
   "execution_count": null,
   "id": "738474c7",
   "metadata": {},
   "outputs": [],
   "source": [
    "# 4. JSON(str) > list, dict > DataFrame"
   ]
  },
  {
   "cell_type": "code",
   "execution_count": 10,
   "id": "793263d2",
   "metadata": {},
   "outputs": [
    {
     "data": {
      "text/plain": [
       "'Python is fun'"
      ]
     },
     "metadata": {},
     "output_type": "display_data"
    },
    {
     "data": {
      "text/plain": [
       "{'message': {'result': {'srcLangType': 'ko',\n",
       "   'tarLangType': 'en',\n",
       "   'translatedText': 'Python is fun',\n",
       "   'engineType': 'N2MT',\n",
       "   'pivot': None,\n",
       "   'dict': None,\n",
       "   'tarDict': None},\n",
       "  '@type': 'response',\n",
       "  '@service': 'naverservice.nmt.proxy',\n",
       "  '@version': '1.0.0'}}"
      ]
     },
     "metadata": {},
     "output_type": "display_data"
    }
   ],
   "source": [
    "txt_en = response.json()[\"message\"][\"result\"][\"translatedText\"]\n",
    "display(txt_en)\n",
    "display(response.json())"
   ]
  },
  {
   "cell_type": "code",
   "execution_count": 11,
   "id": "eb4211b0",
   "metadata": {},
   "outputs": [],
   "source": [
    "# 5. 함수로 작성\n",
    "def translate(txt):\n",
    "    CLIENT_ID, CLIENT_SECRET = \"fE_N729KbMgvglwdH4uR\", \"sP7q8aYRsT\"\n",
    "    \n",
    "    url = \"https://openapi.naver.com/v1/papago/n2mt\"\n",
    "    params = {\"source\":\"ko\", \"target\":\"en\", \"text\":txt}\n",
    "    headers = {\"Content-Type\":\"application/json\",\n",
    "          \"X-Naver-Client-Id\":CLIENT_ID,\n",
    "          \"X-Naver-Client-Secret\":CLIENT_SECRET\n",
    "          }\n",
    "    \n",
    "    response = requests.post(url, json.dumps(params), headers=headers)\n",
    "    \n",
    "    txt_en = response.json()[\"message\"][\"result\"][\"translatedText\"]\n",
    "    return txt_en"
   ]
  },
  {
   "cell_type": "code",
   "execution_count": 12,
   "id": "494ec67b",
   "metadata": {},
   "outputs": [
    {
     "data": {
      "text/plain": [
       "'Web crawling is fun'"
      ]
     },
     "execution_count": 12,
     "metadata": {},
     "output_type": "execute_result"
    }
   ],
   "source": [
    "txt = \"웹크롤링은 재미있습니다\"\n",
    "txt_en = translate(txt)\n",
    "txt_en"
   ]
  },
  {
   "cell_type": "code",
   "execution_count": 13,
   "id": "dea5929f",
   "metadata": {},
   "outputs": [],
   "source": [
    "# 6. 한글 excel 파일을 영문 excel 파일로 변경"
   ]
  },
  {
   "cell_type": "code",
   "execution_count": 14,
   "id": "b42d4946",
   "metadata": {},
   "outputs": [
    {
     "name": "stdout",
     "output_type": "stream",
     "text": [
      " C 드라이브의 볼륨에는 이름이 없습니다.\n",
      " 볼륨 일련 번호: 7C6C-FC35\n",
      "\n",
      " C:\\Users\\User\\Desktop\\교안\\2022_08_03\\Code 디렉터리\n",
      "\n",
      "2022-08-03  오후 04:47    <DIR>          .\n",
      "2022-08-03  오후 04:47    <DIR>          ..\n",
      "2022-08-03  오후 03:41    <DIR>          .ipynb_checkpoints\n",
      "2022-08-03  오후 03:42            33,621 01_WebCrawling.ipynb\n",
      "2022-08-03  오후 04:44             5,609 02_requests_api.ipynb\n",
      "2022-08-03  오후 04:47            10,060 covid.xlsx\n",
      "               3개 파일              49,290 바이트\n",
      "               3개 디렉터리  123,449,266,176 바이트 남음\n"
     ]
    }
   ],
   "source": [
    "%ls"
   ]
  },
  {
   "cell_type": "code",
   "execution_count": 16,
   "id": "f15c2711",
   "metadata": {},
   "outputs": [
    {
     "data": {
      "text/html": [
       "<div>\n",
       "<style scoped>\n",
       "    .dataframe tbody tr th:only-of-type {\n",
       "        vertical-align: middle;\n",
       "    }\n",
       "\n",
       "    .dataframe tbody tr th {\n",
       "        vertical-align: top;\n",
       "    }\n",
       "\n",
       "    .dataframe thead th {\n",
       "        text-align: right;\n",
       "    }\n",
       "</style>\n",
       "<table border=\"1\" class=\"dataframe\">\n",
       "  <thead>\n",
       "    <tr style=\"text-align: right;\">\n",
       "      <th></th>\n",
       "      <th>category</th>\n",
       "      <th>title</th>\n",
       "    </tr>\n",
       "  </thead>\n",
       "  <tbody>\n",
       "    <tr>\n",
       "      <th>4</th>\n",
       "      <td>104</td>\n",
       "      <td>\"코로나 확진자 '0명'인 날은 절대 오지 않는다\" 美전문가</td>\n",
       "    </tr>\n",
       "    <tr>\n",
       "      <th>5</th>\n",
       "      <td>104</td>\n",
       "      <td>올림픽 다가오는데 도쿄 코로나 확산 빨라져...일주일새 25％↑</td>\n",
       "    </tr>\n",
       "  </tbody>\n",
       "</table>\n",
       "</div>"
      ],
      "text/plain": [
       "   category                                title\n",
       "4       104    \"코로나 확진자 '0명'인 날은 절대 오지 않는다\" 美전문가\n",
       "5       104  올림픽 다가오는데 도쿄 코로나 확산 빨라져...일주일새 25％↑"
      ]
     },
     "execution_count": 16,
     "metadata": {},
     "output_type": "execute_result"
    }
   ],
   "source": [
    "covid = pd.read_excel(\"covid.xlsx\")[[\"category\", \"title\"]]\n",
    "covid.tail(2)"
   ]
  },
  {
   "cell_type": "code",
   "execution_count": 17,
   "id": "eaf9c48c",
   "metadata": {},
   "outputs": [],
   "source": [
    "covid_en = covid[\"title\"].apply(translate)"
   ]
  },
  {
   "cell_type": "code",
   "execution_count": 18,
   "id": "45c5200f",
   "metadata": {},
   "outputs": [
    {
     "data": {
      "text/plain": [
       "0      SK바이오사이언스, 코로나19 백신 임상 3상 시험계획 제출\n",
       "1               고양시 노래연습장 코로나19 누적확진 41명\n",
       "2          코로나19 신규 감염, 28일 오후 9시까지 542명\n",
       "3              프로야구 수도권 구단서 코로나19 확진자 발생\n",
       "4      \"코로나 확진자 '0명'인 날은 절대 오지 않는다\" 美전문가\n",
       "5    올림픽 다가오는데 도쿄 코로나 확산 빨라져...일주일새 25％↑\n",
       "Name: title, dtype: object"
      ]
     },
     "metadata": {},
     "output_type": "display_data"
    },
    {
     "data": {
      "text/plain": [
       "0    SK Bioscience Submits Phase III Clinical Trial...\n",
       "1    41 cumulative COVID-19 confirmed patients at G...\n",
       "2    New COVID-19 infections, 542 people by 9 p.m. ...\n",
       "3    Covid-19 confirmed cases in professional baseb...\n",
       "4    \"The day when there are zero confirmed cases o...\n",
       "5    As the Olympics are approaching, the spread of...\n",
       "Name: title, dtype: object"
      ]
     },
     "metadata": {},
     "output_type": "display_data"
    }
   ],
   "source": [
    "display(covid[\"title\"])\n",
    "display(covid_en)"
   ]
  },
  {
   "cell_type": "code",
   "execution_count": 19,
   "id": "558a5c9b",
   "metadata": {},
   "outputs": [
    {
     "data": {
      "text/html": [
       "<div>\n",
       "<style scoped>\n",
       "    .dataframe tbody tr th:only-of-type {\n",
       "        vertical-align: middle;\n",
       "    }\n",
       "\n",
       "    .dataframe tbody tr th {\n",
       "        vertical-align: top;\n",
       "    }\n",
       "\n",
       "    .dataframe thead th {\n",
       "        text-align: right;\n",
       "    }\n",
       "</style>\n",
       "<table border=\"1\" class=\"dataframe\">\n",
       "  <thead>\n",
       "    <tr style=\"text-align: right;\">\n",
       "      <th></th>\n",
       "      <th>category</th>\n",
       "      <th>title</th>\n",
       "      <th>title_en</th>\n",
       "    </tr>\n",
       "  </thead>\n",
       "  <tbody>\n",
       "    <tr>\n",
       "      <th>0</th>\n",
       "      <td>101</td>\n",
       "      <td>SK바이오사이언스, 코로나19 백신 임상 3상 시험계획 제출</td>\n",
       "      <td>SK Bioscience Submits Phase III Clinical Trial...</td>\n",
       "    </tr>\n",
       "    <tr>\n",
       "      <th>1</th>\n",
       "      <td>102</td>\n",
       "      <td>고양시 노래연습장 코로나19 누적확진 41명</td>\n",
       "      <td>41 cumulative COVID-19 confirmed patients at G...</td>\n",
       "    </tr>\n",
       "    <tr>\n",
       "      <th>2</th>\n",
       "      <td>103</td>\n",
       "      <td>코로나19 신규 감염, 28일 오후 9시까지 542명</td>\n",
       "      <td>New COVID-19 infections, 542 people by 9 p.m. ...</td>\n",
       "    </tr>\n",
       "    <tr>\n",
       "      <th>3</th>\n",
       "      <td>103</td>\n",
       "      <td>프로야구 수도권 구단서 코로나19 확진자 발생</td>\n",
       "      <td>Covid-19 confirmed cases in professional baseb...</td>\n",
       "    </tr>\n",
       "    <tr>\n",
       "      <th>4</th>\n",
       "      <td>104</td>\n",
       "      <td>\"코로나 확진자 '0명'인 날은 절대 오지 않는다\" 美전문가</td>\n",
       "      <td>\"The day when there are zero confirmed cases o...</td>\n",
       "    </tr>\n",
       "    <tr>\n",
       "      <th>5</th>\n",
       "      <td>104</td>\n",
       "      <td>올림픽 다가오는데 도쿄 코로나 확산 빨라져...일주일새 25％↑</td>\n",
       "      <td>As the Olympics are approaching, the spread of...</td>\n",
       "    </tr>\n",
       "  </tbody>\n",
       "</table>\n",
       "</div>"
      ],
      "text/plain": [
       "   category                                title  \\\n",
       "0       101    SK바이오사이언스, 코로나19 백신 임상 3상 시험계획 제출   \n",
       "1       102             고양시 노래연습장 코로나19 누적확진 41명   \n",
       "2       103        코로나19 신규 감염, 28일 오후 9시까지 542명   \n",
       "3       103            프로야구 수도권 구단서 코로나19 확진자 발생   \n",
       "4       104    \"코로나 확진자 '0명'인 날은 절대 오지 않는다\" 美전문가   \n",
       "5       104  올림픽 다가오는데 도쿄 코로나 확산 빨라져...일주일새 25％↑   \n",
       "\n",
       "                                            title_en  \n",
       "0  SK Bioscience Submits Phase III Clinical Trial...  \n",
       "1  41 cumulative COVID-19 confirmed patients at G...  \n",
       "2  New COVID-19 infections, 542 people by 9 p.m. ...  \n",
       "3  Covid-19 confirmed cases in professional baseb...  \n",
       "4  \"The day when there are zero confirmed cases o...  \n",
       "5  As the Olympics are approaching, the spread of...  "
      ]
     },
     "execution_count": 19,
     "metadata": {},
     "output_type": "execute_result"
    }
   ],
   "source": [
    "covid[\"title_en\"] = covid_en\n",
    "covid"
   ]
  },
  {
   "cell_type": "code",
   "execution_count": 20,
   "id": "4da84df2",
   "metadata": {},
   "outputs": [],
   "source": [
    "covid.to_excel(\"covid_en.xlsx\", index=False, encoding=\"utf-8-sig\")"
   ]
  },
  {
   "cell_type": "code",
   "execution_count": 21,
   "id": "9595d9f9",
   "metadata": {},
   "outputs": [
    {
     "name": "stdout",
     "output_type": "stream",
     "text": [
      " C 드라이브의 볼륨에는 이름이 없습니다.\n",
      " 볼륨 일련 번호: 7C6C-FC35\n",
      "\n",
      " C:\\Users\\User\\Desktop\\교안\\2022_08_03\\Code 디렉터리\n",
      "\n",
      "2022-08-03  오후 04:52    <DIR>          .\n",
      "2022-08-03  오후 04:52    <DIR>          ..\n",
      "2022-08-03  오후 03:41    <DIR>          .ipynb_checkpoints\n",
      "2022-08-03  오후 03:42            33,621 01_WebCrawling.ipynb\n",
      "2022-08-03  오후 04:50             8,853 02_requests_api.ipynb\n",
      "2022-08-03  오후 04:47            10,060 covid.xlsx\n",
      "2022-08-03  오후 04:52             6,132 covid_en.xlsx\n",
      "               4개 파일              58,666 바이트\n",
      "               3개 디렉터리  123,446,599,680 바이트 남음\n"
     ]
    }
   ],
   "source": [
    "%ls"
   ]
  },
  {
   "cell_type": "code",
   "execution_count": 22,
   "id": "a3802cef",
   "metadata": {},
   "outputs": [],
   "source": [
    "# 함수 : Scope\n",
    "# 변수를 선언할 때 함수 밖에서 선언하는 것과 함수 안에서 선언하는 변수의 메모리 저장공간이 다릅니다\n",
    "# 전역(global) 영역 : 함수 밖의 영역\n",
    "# 지역(local) 영역 : 함수 안의 영역"
   ]
  },
  {
   "cell_type": "code",
   "execution_count": 24,
   "id": "70ee30e5",
   "metadata": {},
   "outputs": [
    {
     "name": "stdout",
     "output_type": "stream",
     "text": [
      "10\n"
     ]
    }
   ],
   "source": [
    "data = 10\n",
    "\n",
    "def change():\n",
    "    data = 20\n",
    "\n",
    "change()\n",
    "print(data)"
   ]
  },
  {
   "cell_type": "code",
   "execution_count": null,
   "id": "99e375b3",
   "metadata": {},
   "outputs": [],
   "source": []
  }
 ],
 "metadata": {
  "kernelspec": {
   "display_name": "Python 3",
   "language": "python",
   "name": "python3"
  },
  "language_info": {
   "codemirror_mode": {
    "name": "ipython",
    "version": 3
   },
   "file_extension": ".py",
   "mimetype": "text/x-python",
   "name": "python",
   "nbconvert_exporter": "python",
   "pygments_lexer": "ipython3",
   "version": "3.8.8"
  }
 },
 "nbformat": 4,
 "nbformat_minor": 5
}
