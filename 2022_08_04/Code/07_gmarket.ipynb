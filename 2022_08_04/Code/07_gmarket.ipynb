{
 "cells": [
  {
   "cell_type": "markdown",
   "id": "c25ae9d1",
   "metadata": {},
   "source": [
    "### Gmarket\n",
    "- 베스트 상품 200개 수집"
   ]
  },
  {
   "cell_type": "code",
   "execution_count": 1,
   "id": "3130dbe6",
   "metadata": {},
   "outputs": [],
   "source": [
    "import pandas as pd\n",
    "import requests\n",
    "from bs4 import BeautifulSoup"
   ]
  },
  {
   "cell_type": "code",
   "execution_count": null,
   "id": "1327b269",
   "metadata": {},
   "outputs": [],
   "source": [
    "# 1. URL"
   ]
  },
  {
   "cell_type": "code",
   "execution_count": 2,
   "id": "516a6fd9",
   "metadata": {},
   "outputs": [],
   "source": [
    "url = \"http://corners.gmarket.co.kr/Bestsellers\""
   ]
  },
  {
   "cell_type": "code",
   "execution_count": null,
   "id": "b254cfab",
   "metadata": {},
   "outputs": [],
   "source": [
    "# 2. request > response : HTML"
   ]
  },
  {
   "cell_type": "code",
   "execution_count": 3,
   "id": "381ced55",
   "metadata": {},
   "outputs": [
    {
     "data": {
      "text/plain": [
       "<Response [200]>"
      ]
     },
     "execution_count": 3,
     "metadata": {},
     "output_type": "execute_result"
    }
   ],
   "source": [
    "response = requests.get(url)\n",
    "response"
   ]
  },
  {
   "cell_type": "code",
   "execution_count": 4,
   "id": "85eda9a2",
   "metadata": {},
   "outputs": [
    {
     "data": {
      "text/plain": [
       "'<!DOCTYPE HTML PUBLIC \"-//W3C//DTD HTML 4.01 Transitional//EN\" \"http://www.w3.org/TR/html4/loose.dtd\">\\r\\n<html lang=\"ko\">\\r\\n<head>\\r\\n\\t<title>G마켓 - G마켓 베스트</title>\\r\\n\\t<meta http-equiv=\"X-UA-Compatible\" con'"
      ]
     },
     "execution_count": 4,
     "metadata": {},
     "output_type": "execute_result"
    }
   ],
   "source": [
    "response.text[:200]"
   ]
  },
  {
   "cell_type": "code",
   "execution_count": null,
   "id": "18a2d827",
   "metadata": {},
   "outputs": [],
   "source": [
    "# 3. HTML(str) > BeautifulSoup Object\n",
    "# css selector를 사용할 수 있는 bs4 객체로 재구성"
   ]
  },
  {
   "cell_type": "code",
   "execution_count": 5,
   "id": "6c35f904",
   "metadata": {},
   "outputs": [
    {
     "data": {
      "text/plain": [
       "bs4.BeautifulSoup"
      ]
     },
     "execution_count": 5,
     "metadata": {},
     "output_type": "execute_result"
    }
   ],
   "source": [
    "dom = BeautifulSoup(response.text, \"html.parser\")\n",
    "type(dom)"
   ]
  },
  {
   "cell_type": "code",
   "execution_count": null,
   "id": "be32cbea",
   "metadata": {},
   "outputs": [],
   "source": [
    "# 4. BeautifulSoup Object > css-selector > DataFrame\n",
    "# #gBestWrap > div > div:nth-child(5) > div > ul > li >> css selector"
   ]
  },
  {
   "cell_type": "code",
   "execution_count": 8,
   "id": "ce6917c5",
   "metadata": {},
   "outputs": [
    {
     "data": {
      "text/plain": [
       "200"
      ]
     },
     "execution_count": 8,
     "metadata": {},
     "output_type": "execute_result"
    }
   ],
   "source": [
    "# 200개 상품 엘리먼트 선택\n",
    "elements = dom.select(\"#gBestWrap > div > div:nth-child(5) > div > ul > li\") # 다수를 선택하니 select() 함수\n",
    "len(elements)"
   ]
  },
  {
   "cell_type": "code",
   "execution_count": 13,
   "id": "8eb5e48a",
   "metadata": {},
   "outputs": [
    {
     "data": {
      "text/plain": [
       "<li class=\"first\">\n",
       "<p class=\"no1\" id=\"no1\">1</p>\n",
       "<div class=\"thumb\">\n",
       "<a href=\"http://item.gmarket.co.kr/Item?goodscode=1798110680&amp;ver=637952285074631978\" onclick=\"pdsClickLog('200000680', 'Item', {'ASN': 1, 'goodsCode': '1798110680'});\"><img alt=\"[한상궁김치]한상궁김치 국산 겉절이 2kg 출고당일생산\" class=\"lazy\" data-original=\"//gdimg.gmarket.co.kr/1798110680/still/300?ver=2022080416\" height=\"210\" src=\"//image.gmarket.co.kr/challenge/neo_image/no_image.gif\" width=\"210\"/></a>\n",
       "</div>\n",
       "<!--div class=\"goods-view\">\n",
       "\t\t\t\t\t\t\t\t\t<a href=\"http://minishop.gmarket.co.kr/hansanggungfood\"><span class=\"view\">판매자 다른상품 보기</span>맛있는한상궁</a>\n",
       "\t\t\t\t\t\t\t\t</div-->\n",
       "<a class=\"itemname\" href=\"http://item.gmarket.co.kr/Item?goodscode=1798110680&amp;ver=637952285074631978\" onclick=\"pdsClickLog('200000680', 'Item', {'ASN': 1, 'goodsCode': '1798110680'});\">[한상궁김치]한상궁김치 국산 겉절이 2kg 출고당일생산</a>\n",
       "<div class=\"item_price\">\n",
       "<div class=\"o-price\"><span><span>23,400원</span></span></div>\n",
       "<div class=\"s-price\">\n",
       "<strong><span><span>11,000원</span></span></strong>\n",
       "<span><span class=\"sale\"></span><em>52%</em></span>\n",
       "</div>\n",
       "<div class=\"icon\">\n",
       "<img alt=\"무료배송\" src=\"//pics.gmkt.kr/pc/ko/corner/gbest/ic_freeshipping.gif\"/>\n",
       "</div>\n",
       "</div>\n",
       "</li>"
      ]
     },
     "execution_count": 13,
     "metadata": {},
     "output_type": "execute_result"
    }
   ],
   "source": [
    "element = elements[0]\n",
    "element"
   ]
  },
  {
   "cell_type": "code",
   "execution_count": 15,
   "id": "17e26209",
   "metadata": {},
   "outputs": [
    {
     "data": {
      "text/plain": [
       "{'title': '[한상궁김치]한상궁김치 국산 겉절이 2kg 출고당일생산',\n",
       " 'o_price': '23,400원',\n",
       " 's-price': '11,000원',\n",
       " 'img': 'http//gdimg.gmarket.co.kr/1798110680/still/300?ver=2022080416'}"
      ]
     },
     "execution_count": 15,
     "metadata": {},
     "output_type": "execute_result"
    }
   ],
   "source": [
    "data = {\n",
    "    \"title\" : element.select_one(\".itemname\").text,\n",
    "    \"o_price\" : element.select_one(\".o-price\").text,\n",
    "    \"s-price\" : element.select_one(\".s-price > strong\").text,\n",
    "    \"img\" : \"http\"+element.select_one(\"img\").get(\"data-original\"),\n",
    "}\n",
    "data"
   ]
  },
  {
   "cell_type": "code",
   "execution_count": 16,
   "id": "b9e7aa6e",
   "metadata": {},
   "outputs": [
    {
     "data": {
      "text/plain": [
       "[{'title': '[한상궁김치]한상궁김치 국산 겉절이 2kg 출고당일생산',\n",
       "  'o_price': '23,400원',\n",
       "  's-price': '11,000원',\n",
       "  'img': 'http//gdimg.gmarket.co.kr/1798110680/still/300?ver=2022080416'},\n",
       " {'title': '[광동]아이스웨일 레몬라임 탄산수 500ml 40pet/음료/음료수',\n",
       "  'o_price': '17,300원',\n",
       "  's-price': '13,900원',\n",
       "  'img': 'http//gdimg.gmarket.co.kr/2355814801/still/300?ver=2022080416'}]"
      ]
     },
     "execution_count": 16,
     "metadata": {},
     "output_type": "execute_result"
    }
   ],
   "source": [
    "items = []\n",
    "for element in elements:\n",
    "    data = {\n",
    "        \"title\" : element.select_one(\".itemname\").text,\n",
    "        \"o_price\" : element.select_one(\".o-price\").text,\n",
    "        \"s-price\" : element.select_one(\".s-price > strong\").text,\n",
    "        \"img\" : \"http\"+element.select_one(\"img\").get(\"data-original\"),\n",
    "    }\n",
    "    items.append(data)\n",
    "items[:2]"
   ]
  },
  {
   "cell_type": "code",
   "execution_count": 17,
   "id": "071098d8",
   "metadata": {},
   "outputs": [
    {
     "data": {
      "text/html": [
       "<div>\n",
       "<style scoped>\n",
       "    .dataframe tbody tr th:only-of-type {\n",
       "        vertical-align: middle;\n",
       "    }\n",
       "\n",
       "    .dataframe tbody tr th {\n",
       "        vertical-align: top;\n",
       "    }\n",
       "\n",
       "    .dataframe thead th {\n",
       "        text-align: right;\n",
       "    }\n",
       "</style>\n",
       "<table border=\"1\" class=\"dataframe\">\n",
       "  <thead>\n",
       "    <tr style=\"text-align: right;\">\n",
       "      <th></th>\n",
       "      <th>title</th>\n",
       "      <th>o_price</th>\n",
       "      <th>s-price</th>\n",
       "      <th>img</th>\n",
       "    </tr>\n",
       "  </thead>\n",
       "  <tbody>\n",
       "    <tr>\n",
       "      <th>0</th>\n",
       "      <td>[한상궁김치]한상궁김치 국산 겉절이 2kg 출고당일생산</td>\n",
       "      <td>23,400원</td>\n",
       "      <td>11,000원</td>\n",
       "      <td>http//gdimg.gmarket.co.kr/1798110680/still/300...</td>\n",
       "    </tr>\n",
       "    <tr>\n",
       "      <th>1</th>\n",
       "      <td>[광동]아이스웨일 레몬라임 탄산수 500ml 40pet/음료/음료수</td>\n",
       "      <td>17,300원</td>\n",
       "      <td>13,900원</td>\n",
       "      <td>http//gdimg.gmarket.co.kr/2355814801/still/300...</td>\n",
       "    </tr>\n",
       "    <tr>\n",
       "      <th>2</th>\n",
       "      <td>[바디스토리]남성 누디5매 냉감 쿨 드로즈 남자 아이스 사각 팬티 / 무료반품+10...</td>\n",
       "      <td>39,600원</td>\n",
       "      <td>11,900원</td>\n",
       "      <td>http//gdimg.gmarket.co.kr/2520900839/still/300...</td>\n",
       "    </tr>\n",
       "    <tr>\n",
       "      <th>3</th>\n",
       "      <td>(쌀가게) (광주신세계)[주문폭증으로 순차적 출고 예정] [2021년 햅쌀] 쌀가게...</td>\n",
       "      <td>33,900원</td>\n",
       "      <td>28,140원</td>\n",
       "      <td>http//gdimg.gmarket.co.kr/2443817026/still/300...</td>\n",
       "    </tr>\n",
       "    <tr>\n",
       "      <th>4</th>\n",
       "      <td>[이지바이](무료반품)균일6900원/남녀 쿨론티셔츠/반바지/추리닝</td>\n",
       "      <td>23,000원</td>\n",
       "      <td>6,900원</td>\n",
       "      <td>http//gdimg.gmarket.co.kr/1494979529/still/300...</td>\n",
       "    </tr>\n",
       "  </tbody>\n",
       "</table>\n",
       "</div>"
      ],
      "text/plain": [
       "                                               title  o_price  s-price  \\\n",
       "0                     [한상궁김치]한상궁김치 국산 겉절이 2kg 출고당일생산  23,400원  11,000원   \n",
       "1              [광동]아이스웨일 레몬라임 탄산수 500ml 40pet/음료/음료수  17,300원  13,900원   \n",
       "2  [바디스토리]남성 누디5매 냉감 쿨 드로즈 남자 아이스 사각 팬티 / 무료반품+10...  39,600원  11,900원   \n",
       "3  (쌀가게) (광주신세계)[주문폭증으로 순차적 출고 예정] [2021년 햅쌀] 쌀가게...  33,900원  28,140원   \n",
       "4               [이지바이](무료반품)균일6900원/남녀 쿨론티셔츠/반바지/추리닝  23,000원   6,900원   \n",
       "\n",
       "                                                 img  \n",
       "0  http//gdimg.gmarket.co.kr/1798110680/still/300...  \n",
       "1  http//gdimg.gmarket.co.kr/2355814801/still/300...  \n",
       "2  http//gdimg.gmarket.co.kr/2520900839/still/300...  \n",
       "3  http//gdimg.gmarket.co.kr/2443817026/still/300...  \n",
       "4  http//gdimg.gmarket.co.kr/1494979529/still/300...  "
      ]
     },
     "execution_count": 17,
     "metadata": {},
     "output_type": "execute_result"
    }
   ],
   "source": [
    "df = pd.DataFrame(items)\n",
    "df.head()"
   ]
  },
  {
   "cell_type": "code",
   "execution_count": 18,
   "id": "0a9949ac",
   "metadata": {},
   "outputs": [],
   "source": [
    "# summary\n",
    "# 웹 페이지의 종류\n",
    "# -동적페이지 : URL 변경 없이 웹 페이지 데이터 변경 : JSON : API\n",
    "# -정적페이지 : URL 변경 해서 웹 페이지 데이터 변경 : HTML : BeautifulSoup(Css Selector)"
   ]
  },
  {
   "cell_type": "code",
   "execution_count": 19,
   "id": "ae777d91",
   "metadata": {},
   "outputs": [],
   "source": [
    "# 실습\n",
    "# naver api : 검색어 트렌드\n",
    "# zigbang : 원룸 데이터 수집\n",
    "# daum exchange : headers(user-agent, referer)\n",
    "# html, css-selector\n",
    "# naver relational keyword\n",
    "# gmarket items"
   ]
  },
  {
   "cell_type": "code",
   "execution_count": null,
   "id": "d55503ae",
   "metadata": {},
   "outputs": [],
   "source": [
    "# crawling images\n",
    "# crawling selenium\n",
    "# xpath\n",
    "# python web crawling frame work : scrapy"
   ]
  }
 ],
 "metadata": {
  "kernelspec": {
   "display_name": "Python 3",
   "language": "python",
   "name": "python3"
  },
  "language_info": {
   "codemirror_mode": {
    "name": "ipython",
    "version": 3
   },
   "file_extension": ".py",
   "mimetype": "text/x-python",
   "name": "python",
   "nbconvert_exporter": "python",
   "pygments_lexer": "ipython3",
   "version": "3.8.8"
  }
 },
 "nbformat": 4,
 "nbformat_minor": 5
}
