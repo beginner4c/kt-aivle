{
 "cells": [
  {
   "cell_type": "markdown",
   "id": "522c8ed3",
   "metadata": {},
   "source": [
    "### 직방의 원룸 매물정보 수집\n",
    "- 절차\n",
    "    - 동이름으로 위도, 경도 수집\n",
    "    - 위도, 경도 > geohash(영역) 변환\n",
    "    - geohash(영역) > 매물 아이디\n",
    "    - 매물 아이디 > 매물 정보 수집"
   ]
  },
  {
   "cell_type": "code",
   "execution_count": 5,
   "id": "d58850f0",
   "metadata": {},
   "outputs": [],
   "source": [
    "import requests\n",
    "import pandas as pd\n",
    "import geohash2"
   ]
  },
  {
   "cell_type": "code",
   "execution_count": 4,
   "id": "8b889005",
   "metadata": {},
   "outputs": [
    {
     "name": "stdout",
     "output_type": "stream",
     "text": [
      "Collecting geohash2\n",
      "  Downloading geohash2-1.1.tar.gz (15 kB)\n",
      "Requirement already satisfied: docutils>=0.3 in c:\\users\\user\\anaconda3\\lib\\site-packages (from geohash2) (0.17)\n",
      "Building wheels for collected packages: geohash2\n",
      "  Building wheel for geohash2 (setup.py): started\n",
      "  Building wheel for geohash2 (setup.py): finished with status 'done'\n",
      "  Created wheel for geohash2: filename=geohash2-1.1-py3-none-any.whl size=15544 sha256=39ccd69c7ea4bc309b290018969acf9b1f51d0ef84696c735a0218638056f6cb\n",
      "  Stored in directory: c:\\users\\user\\appdata\\local\\pip\\cache\\wheels\\2d\\0c\\66\\dcd768c9e7c26fc81ec59bfe24af9d780fc9dbdf7f90b0cf00\n",
      "Successfully built geohash2\n",
      "Installing collected packages: geohash2\n",
      "Successfully installed geohash2-1.1\n"
     ]
    }
   ],
   "source": [
    "!pip install geohash2 # geohash2 설치"
   ]
  },
  {
   "cell_type": "code",
   "execution_count": 1,
   "id": "4db462b1",
   "metadata": {},
   "outputs": [],
   "source": [
    "# 1. 동이름 > 위도, 경도\n",
    "# zigbang 홈페이지 > 원룸 > 개발자 도구 > Network > Fetch/XHR"
   ]
  },
  {
   "cell_type": "code",
   "execution_count": 8,
   "id": "31782a7f",
   "metadata": {},
   "outputs": [
    {
     "data": {
      "text/plain": [
       "(35.182559967041016, 129.08554077148438)"
      ]
     },
     "execution_count": 8,
     "metadata": {},
     "output_type": "execute_result"
    }
   ],
   "source": [
    "addr = \"연제구 연산동\"\n",
    "url = f\"https://apis.zigbang.com/v2/search?leaseYn=N&q={addr}&serviceType=원룸\"\n",
    "response = requests.get(url)\n",
    "data = response.json()[\"items\"][0]\n",
    "lat, lng = data[\"lat\"], data[\"lng\"]\n",
    "lat, lng"
   ]
  },
  {
   "cell_type": "code",
   "execution_count": 2,
   "id": "da5bec53",
   "metadata": {},
   "outputs": [],
   "source": [
    "# 2. 위도, 경도 > geohash"
   ]
  },
  {
   "cell_type": "code",
   "execution_count": 10,
   "id": "9bebb694",
   "metadata": {},
   "outputs": [
    {
     "data": {
      "text/plain": [
       "'wy7b1'"
      ]
     },
     "execution_count": 10,
     "metadata": {},
     "output_type": "execute_result"
    }
   ],
   "source": [
    "# precsision이 커질수록 영역이 작아짐\n",
    "geohash = geohash2.encode(lat, lng, precision=5)\n",
    "geohash"
   ]
  },
  {
   "cell_type": "code",
   "execution_count": null,
   "id": "d9961df8",
   "metadata": {},
   "outputs": [],
   "source": [
    "# 3. geohash > 매물 아이디"
   ]
  },
  {
   "cell_type": "code",
   "execution_count": 11,
   "id": "6af22c52",
   "metadata": {},
   "outputs": [
    {
     "data": {
      "text/plain": [
       "<Response [200]>"
      ]
     },
     "execution_count": 11,
     "metadata": {},
     "output_type": "execute_result"
    }
   ],
   "source": [
    "url = f\"https://apis.zigbang.com/v2/items?deposit_gteq=0&domain=zigbang\\\n",
    "&geohash={geohash}&needHasNoFiltered=true&rent_gteq=0&sales_type_in=전세|월세&service_type_eq=원룸\"\n",
    "# \\로 문자열을 이어줄 때 ' ' 공백이 있으면 에러 발생하니 주의\n",
    "response = requests.get(url)\n",
    "response"
   ]
  },
  {
   "cell_type": "code",
   "execution_count": 15,
   "id": "a33fca9a",
   "metadata": {},
   "outputs": [
    {
     "data": {
      "text/plain": [
       "(699,\n",
       " [{'lat': 35.15730458039277, 'lng': 129.11074406994152, 'item_id': 32650687},\n",
       "  {'lat': 35.15783308484765, 'lng': 129.11026280206823, 'item_id': 32727230}])"
      ]
     },
     "execution_count": 15,
     "metadata": {},
     "output_type": "execute_result"
    }
   ],
   "source": [
    "items = response.json()[\"items\"]\n",
    "# 실제로 가져올 수 있는 개수가 1000개가 넘는 경우가 있다\n",
    "# 데이터가 1000이 넘어가는 경우 parameter를 넘길 때 나누어 넘겨야 한다\n",
    "len(items), items[:2]"
   ]
  },
  {
   "cell_type": "code",
   "execution_count": 16,
   "id": "4ed0700c",
   "metadata": {},
   "outputs": [
    {
     "data": {
      "text/plain": [
       "[32650687, 32727230, 32838086, 32523449, 32227873]"
      ]
     },
     "execution_count": 16,
     "metadata": {},
     "output_type": "execute_result"
    }
   ],
   "source": [
    "ids = [item[\"item_id\"]for item in items]\n",
    "ids[:5]"
   ]
  },
  {
   "cell_type": "code",
   "execution_count": null,
   "id": "687f23ee",
   "metadata": {},
   "outputs": [],
   "source": [
    "# 4. 매물 아이디 > 매물 정보"
   ]
  },
  {
   "cell_type": "code",
   "execution_count": 17,
   "id": "0f7502a8",
   "metadata": {},
   "outputs": [
    {
     "data": {
      "text/plain": [
       "<Response [200]>"
      ]
     },
     "execution_count": 17,
     "metadata": {},
     "output_type": "execute_result"
    }
   ],
   "source": [
    "url = \"https://apis.zigbang.com/v2/items/list\"\n",
    "params = {\n",
    "    \"domain\" : \"zigbang\",\n",
    "    \"withCoalition\" : \"true\",\n",
    "    \"item_ids\" : ids\n",
    "    #\"item_ids\" : ids[:900]\n",
    "}\n",
    "response = requests.post(url, params)\n",
    "response"
   ]
  },
  {
   "cell_type": "code",
   "execution_count": 23,
   "id": "947ebc8a",
   "metadata": {},
   "outputs": [
    {
     "data": {
      "text/html": [
       "<div>\n",
       "<style scoped>\n",
       "    .dataframe tbody tr th:only-of-type {\n",
       "        vertical-align: middle;\n",
       "    }\n",
       "\n",
       "    .dataframe tbody tr th {\n",
       "        vertical-align: top;\n",
       "    }\n",
       "\n",
       "    .dataframe thead th {\n",
       "        text-align: right;\n",
       "    }\n",
       "</style>\n",
       "<table border=\"1\" class=\"dataframe\">\n",
       "  <thead>\n",
       "    <tr style=\"text-align: right;\">\n",
       "      <th></th>\n",
       "      <th>item_id</th>\n",
       "      <th>sales_type</th>\n",
       "      <th>deposit</th>\n",
       "      <th>rent</th>\n",
       "      <th>size_m2</th>\n",
       "      <th>address1</th>\n",
       "      <th>manage_cost</th>\n",
       "    </tr>\n",
       "  </thead>\n",
       "  <tbody>\n",
       "    <tr>\n",
       "      <th>0</th>\n",
       "      <td>32650687</td>\n",
       "      <td>월세</td>\n",
       "      <td>500</td>\n",
       "      <td>40</td>\n",
       "      <td>18.00</td>\n",
       "      <td>부산시 수영구 광안동</td>\n",
       "      <td>14</td>\n",
       "    </tr>\n",
       "    <tr>\n",
       "      <th>1</th>\n",
       "      <td>32727230</td>\n",
       "      <td>월세</td>\n",
       "      <td>300</td>\n",
       "      <td>45</td>\n",
       "      <td>26.45</td>\n",
       "      <td>부산시 수영구 광안동</td>\n",
       "      <td>10</td>\n",
       "    </tr>\n",
       "    <tr>\n",
       "      <th>2</th>\n",
       "      <td>32838086</td>\n",
       "      <td>월세</td>\n",
       "      <td>7000</td>\n",
       "      <td>20</td>\n",
       "      <td>29.75</td>\n",
       "      <td>부산시 수영구 광안동</td>\n",
       "      <td>15</td>\n",
       "    </tr>\n",
       "    <tr>\n",
       "      <th>3</th>\n",
       "      <td>32523449</td>\n",
       "      <td>월세</td>\n",
       "      <td>100</td>\n",
       "      <td>16</td>\n",
       "      <td>26.97</td>\n",
       "      <td>부산시 부산진구 전포동</td>\n",
       "      <td>10</td>\n",
       "    </tr>\n",
       "    <tr>\n",
       "      <th>4</th>\n",
       "      <td>32227873</td>\n",
       "      <td>월세</td>\n",
       "      <td>100</td>\n",
       "      <td>10</td>\n",
       "      <td>33.06</td>\n",
       "      <td>부산시 부산진구 전포동</td>\n",
       "      <td>10</td>\n",
       "    </tr>\n",
       "    <tr>\n",
       "      <th>...</th>\n",
       "      <td>...</td>\n",
       "      <td>...</td>\n",
       "      <td>...</td>\n",
       "      <td>...</td>\n",
       "      <td>...</td>\n",
       "      <td>...</td>\n",
       "      <td>...</td>\n",
       "    </tr>\n",
       "    <tr>\n",
       "      <th>694</th>\n",
       "      <td>32829925</td>\n",
       "      <td>월세</td>\n",
       "      <td>100</td>\n",
       "      <td>15</td>\n",
       "      <td>14.61</td>\n",
       "      <td>부산시 동래구 안락동</td>\n",
       "      <td>10</td>\n",
       "    </tr>\n",
       "    <tr>\n",
       "      <th>695</th>\n",
       "      <td>32783323</td>\n",
       "      <td>월세</td>\n",
       "      <td>500</td>\n",
       "      <td>43</td>\n",
       "      <td>26.45</td>\n",
       "      <td>부산시 동래구 안락동</td>\n",
       "      <td>10</td>\n",
       "    </tr>\n",
       "    <tr>\n",
       "      <th>696</th>\n",
       "      <td>32811035</td>\n",
       "      <td>월세</td>\n",
       "      <td>2000</td>\n",
       "      <td>50</td>\n",
       "      <td>42.98</td>\n",
       "      <td>부산시 동래구 안락동</td>\n",
       "      <td>10</td>\n",
       "    </tr>\n",
       "    <tr>\n",
       "      <th>697</th>\n",
       "      <td>32775937</td>\n",
       "      <td>전세</td>\n",
       "      <td>11000</td>\n",
       "      <td>0</td>\n",
       "      <td>21.56</td>\n",
       "      <td>부산시 동래구 사직동</td>\n",
       "      <td>7</td>\n",
       "    </tr>\n",
       "    <tr>\n",
       "      <th>698</th>\n",
       "      <td>32840099</td>\n",
       "      <td>전세</td>\n",
       "      <td>9000</td>\n",
       "      <td>0</td>\n",
       "      <td>20.16</td>\n",
       "      <td>부산시 동래구 사직동</td>\n",
       "      <td>6</td>\n",
       "    </tr>\n",
       "  </tbody>\n",
       "</table>\n",
       "<p>699 rows × 7 columns</p>\n",
       "</div>"
      ],
      "text/plain": [
       "      item_id sales_type  deposit  rent  size_m2      address1 manage_cost\n",
       "0    32650687         월세      500    40    18.00   부산시 수영구 광안동          14\n",
       "1    32727230         월세      300    45    26.45   부산시 수영구 광안동          10\n",
       "2    32838086         월세     7000    20    29.75   부산시 수영구 광안동          15\n",
       "3    32523449         월세      100    16    26.97  부산시 부산진구 전포동          10\n",
       "4    32227873         월세      100    10    33.06  부산시 부산진구 전포동          10\n",
       "..        ...        ...      ...   ...      ...           ...         ...\n",
       "694  32829925         월세      100    15    14.61   부산시 동래구 안락동          10\n",
       "695  32783323         월세      500    43    26.45   부산시 동래구 안락동          10\n",
       "696  32811035         월세     2000    50    42.98   부산시 동래구 안락동          10\n",
       "697  32775937         전세    11000     0    21.56   부산시 동래구 사직동           7\n",
       "698  32840099         전세     9000     0    20.16   부산시 동래구 사직동           6\n",
       "\n",
       "[699 rows x 7 columns]"
      ]
     },
     "execution_count": 23,
     "metadata": {},
     "output_type": "execute_result"
    }
   ],
   "source": [
    "items = response.json()[\"items\"]\n",
    "columns = [\"item_id\", \"sales_type\", \"deposit\", \"rent\", \"size_m2\", \"address1\", \"manage_cost\"]\n",
    "df = pd.DataFrame(items)[columns]\n",
    "df.head(2)"
   ]
  },
  {
   "cell_type": "code",
   "execution_count": null,
   "id": "1c4e9d29",
   "metadata": {},
   "outputs": [],
   "source": [
    "# max row, max column 설정\n",
    "# pd.options.display.max_columns = 50\n",
    "# 위와 같이 설정하면 열 혹은 행이 너무 많아 ... 으로 생략되는 경우\n",
    "# ... 이 아닌 원래의 데이터프레임을 확인할 수 있다"
   ]
  },
  {
   "cell_type": "code",
   "execution_count": 24,
   "id": "db01c4a0",
   "metadata": {},
   "outputs": [],
   "source": [
    "# 함수 만들기\n",
    "def oneroom(addr) :\n",
    "    # 위도 경도 알아오기\n",
    "    url = f\"https://apis.zigbang.com/v2/search?leaseYn=N&q={addr}&serviceType=원룸\"\n",
    "    response = requests.get(url)\n",
    "    data = response.json()[\"items\"][0]\n",
    "    lat, lng = data[\"lat\"], data[\"lng\"]\n",
    "    \n",
    "    # 위도, 경도 값을 geohash로 변환\n",
    "    geohash = geohash2.encode(lat, lng, precision=5)\n",
    "    \n",
    "    # geohash를 통해 매물id를 가져온다\n",
    "    url = f\"https://apis.zigbang.com/v2/items?deposit_gteq=0&domain=zigbang\\\n",
    "&geohash={geohash}&needHasNoFiltered=true&rent_gteq=0&sales_type_in=전세|월세&service_type_eq=원룸\"\n",
    "    # \\로 문자열을 이어줄 때 ' ' 공백이 있으면 에러 발생하니 주의\n",
    "    response = requests.get(url)\n",
    "    items = response.json()[\"items\"]\n",
    "    ids = [item[\"item_id\"]for item in items]\n",
    "    \n",
    "    # 매물id를 통해서 매물에 대한 정보를 가져온다\n",
    "    url = \"https://apis.zigbang.com/v2/items/list\"\n",
    "    params = {\n",
    "        \"domain\" : \"zigbang\",\n",
    "        \"withCoalition\" : \"true\",\n",
    "        \"item_ids\" : ids\n",
    "        #\"item_ids\" : ids[:900]\n",
    "    }\n",
    "    response = requests.post(url, params)\n",
    "    items = response.json()[\"items\"]\n",
    "    # 필요한 정보들만 따로 선별해서 가져올 수 있게 한다\n",
    "    columns = [\"item_id\", \"sales_type\", \"deposit\", \"rent\", \"size_m2\", \"address1\", \"manage_cost\"]\n",
    "    df = pd.DataFrame(items)[columns]\n",
    "    return df"
   ]
  },
  {
   "cell_type": "code",
   "execution_count": 25,
   "id": "a8179857",
   "metadata": {},
   "outputs": [
    {
     "data": {
      "text/html": [
       "<div>\n",
       "<style scoped>\n",
       "    .dataframe tbody tr th:only-of-type {\n",
       "        vertical-align: middle;\n",
       "    }\n",
       "\n",
       "    .dataframe tbody tr th {\n",
       "        vertical-align: top;\n",
       "    }\n",
       "\n",
       "    .dataframe thead th {\n",
       "        text-align: right;\n",
       "    }\n",
       "</style>\n",
       "<table border=\"1\" class=\"dataframe\">\n",
       "  <thead>\n",
       "    <tr style=\"text-align: right;\">\n",
       "      <th></th>\n",
       "      <th>item_id</th>\n",
       "      <th>sales_type</th>\n",
       "      <th>deposit</th>\n",
       "      <th>rent</th>\n",
       "      <th>size_m2</th>\n",
       "      <th>address1</th>\n",
       "      <th>manage_cost</th>\n",
       "    </tr>\n",
       "  </thead>\n",
       "  <tbody>\n",
       "    <tr>\n",
       "      <th>742</th>\n",
       "      <td>32862490</td>\n",
       "      <td>전세</td>\n",
       "      <td>43000</td>\n",
       "      <td>0</td>\n",
       "      <td>31.74</td>\n",
       "      <td>서울시 마포구 중동</td>\n",
       "      <td>5</td>\n",
       "    </tr>\n",
       "    <tr>\n",
       "      <th>743</th>\n",
       "      <td>32866975</td>\n",
       "      <td>월세</td>\n",
       "      <td>3000</td>\n",
       "      <td>90</td>\n",
       "      <td>49.59</td>\n",
       "      <td>서울시 마포구 중동</td>\n",
       "      <td>2</td>\n",
       "    </tr>\n",
       "  </tbody>\n",
       "</table>\n",
       "</div>"
      ],
      "text/plain": [
       "      item_id sales_type  deposit  rent  size_m2    address1 manage_cost\n",
       "742  32862490         전세    43000     0    31.74  서울시 마포구 중동           5\n",
       "743  32866975         월세     3000    90    49.59  서울시 마포구 중동           2"
      ]
     },
     "execution_count": 25,
     "metadata": {},
     "output_type": "execute_result"
    }
   ],
   "source": [
    "# 마포구 합정동을 통해 함수 확인\n",
    "addr = \"마포구 합정동\"\n",
    "df = oneroom(addr)\n",
    "df.tail(2)"
   ]
  },
  {
   "cell_type": "code",
   "execution_count": 27,
   "id": "4556da6a",
   "metadata": {},
   "outputs": [
    {
     "data": {
      "text/html": [
       "<div>\n",
       "<style scoped>\n",
       "    .dataframe tbody tr th:only-of-type {\n",
       "        vertical-align: middle;\n",
       "    }\n",
       "\n",
       "    .dataframe tbody tr th {\n",
       "        vertical-align: top;\n",
       "    }\n",
       "\n",
       "    .dataframe thead th {\n",
       "        text-align: right;\n",
       "    }\n",
       "</style>\n",
       "<table border=\"1\" class=\"dataframe\">\n",
       "  <thead>\n",
       "    <tr style=\"text-align: right;\">\n",
       "      <th></th>\n",
       "      <th>item_id</th>\n",
       "      <th>sales_type</th>\n",
       "      <th>deposit</th>\n",
       "      <th>rent</th>\n",
       "      <th>size_m2</th>\n",
       "      <th>address1</th>\n",
       "      <th>manage_cost</th>\n",
       "    </tr>\n",
       "  </thead>\n",
       "  <tbody>\n",
       "    <tr>\n",
       "      <th>0</th>\n",
       "      <td>32662713</td>\n",
       "      <td>전세</td>\n",
       "      <td>17700</td>\n",
       "      <td>0</td>\n",
       "      <td>39.67</td>\n",
       "      <td>서울시 마포구 합정동</td>\n",
       "      <td>0</td>\n",
       "    </tr>\n",
       "    <tr>\n",
       "      <th>1</th>\n",
       "      <td>32668759</td>\n",
       "      <td>전세</td>\n",
       "      <td>17700</td>\n",
       "      <td>0</td>\n",
       "      <td>39.67</td>\n",
       "      <td>서울시 마포구 합정동</td>\n",
       "      <td>0</td>\n",
       "    </tr>\n",
       "    <tr>\n",
       "      <th>2</th>\n",
       "      <td>32726690</td>\n",
       "      <td>전세</td>\n",
       "      <td>19900</td>\n",
       "      <td>0</td>\n",
       "      <td>36.28</td>\n",
       "      <td>서울시 마포구 합정동</td>\n",
       "      <td>0</td>\n",
       "    </tr>\n",
       "    <tr>\n",
       "      <th>3</th>\n",
       "      <td>32542700</td>\n",
       "      <td>월세</td>\n",
       "      <td>1500</td>\n",
       "      <td>95</td>\n",
       "      <td>49.59</td>\n",
       "      <td>서울시 마포구 합정동</td>\n",
       "      <td>7</td>\n",
       "    </tr>\n",
       "    <tr>\n",
       "      <th>4</th>\n",
       "      <td>32513282</td>\n",
       "      <td>전세</td>\n",
       "      <td>5000</td>\n",
       "      <td>0</td>\n",
       "      <td>23.14</td>\n",
       "      <td>서울시 마포구 합정동</td>\n",
       "      <td>5</td>\n",
       "    </tr>\n",
       "    <tr>\n",
       "      <th>...</th>\n",
       "      <td>...</td>\n",
       "      <td>...</td>\n",
       "      <td>...</td>\n",
       "      <td>...</td>\n",
       "      <td>...</td>\n",
       "      <td>...</td>\n",
       "      <td>...</td>\n",
       "    </tr>\n",
       "    <tr>\n",
       "      <th>95</th>\n",
       "      <td>32794268</td>\n",
       "      <td>월세</td>\n",
       "      <td>1000</td>\n",
       "      <td>90</td>\n",
       "      <td>59.50</td>\n",
       "      <td>서울시 마포구 합정동</td>\n",
       "      <td>2</td>\n",
       "    </tr>\n",
       "    <tr>\n",
       "      <th>96</th>\n",
       "      <td>32794303</td>\n",
       "      <td>월세</td>\n",
       "      <td>3000</td>\n",
       "      <td>80</td>\n",
       "      <td>59.50</td>\n",
       "      <td>서울시 마포구 합정동</td>\n",
       "      <td>2</td>\n",
       "    </tr>\n",
       "    <tr>\n",
       "      <th>97</th>\n",
       "      <td>32804404</td>\n",
       "      <td>월세</td>\n",
       "      <td>2000</td>\n",
       "      <td>85</td>\n",
       "      <td>61.24</td>\n",
       "      <td>서울시 마포구 합정동</td>\n",
       "      <td>2</td>\n",
       "    </tr>\n",
       "    <tr>\n",
       "      <th>98</th>\n",
       "      <td>32812101</td>\n",
       "      <td>월세</td>\n",
       "      <td>3000</td>\n",
       "      <td>80</td>\n",
       "      <td>61.24</td>\n",
       "      <td>서울시 마포구 합정동</td>\n",
       "      <td>2</td>\n",
       "    </tr>\n",
       "    <tr>\n",
       "      <th>99</th>\n",
       "      <td>32836233</td>\n",
       "      <td>월세</td>\n",
       "      <td>1000</td>\n",
       "      <td>45</td>\n",
       "      <td>13.95</td>\n",
       "      <td>서울시 마포구 합정동</td>\n",
       "      <td>5</td>\n",
       "    </tr>\n",
       "  </tbody>\n",
       "</table>\n",
       "<p>100 rows × 7 columns</p>\n",
       "</div>"
      ],
      "text/plain": [
       "     item_id sales_type  deposit  rent  size_m2     address1 manage_cost\n",
       "0   32662713         전세    17700     0    39.67  서울시 마포구 합정동           0\n",
       "1   32668759         전세    17700     0    39.67  서울시 마포구 합정동           0\n",
       "2   32726690         전세    19900     0    36.28  서울시 마포구 합정동           0\n",
       "3   32542700         월세     1500    95    49.59  서울시 마포구 합정동           7\n",
       "4   32513282         전세     5000     0    23.14  서울시 마포구 합정동           5\n",
       "..       ...        ...      ...   ...      ...          ...         ...\n",
       "95  32794268         월세     1000    90    59.50  서울시 마포구 합정동           2\n",
       "96  32794303         월세     3000    80    59.50  서울시 마포구 합정동           2\n",
       "97  32804404         월세     2000    85    61.24  서울시 마포구 합정동           2\n",
       "98  32812101         월세     3000    80    61.24  서울시 마포구 합정동           2\n",
       "99  32836233         월세     1000    45    13.95  서울시 마포구 합정동           5\n",
       "\n",
       "[100 rows x 7 columns]"
      ]
     },
     "execution_count": 27,
     "metadata": {},
     "output_type": "execute_result"
    }
   ],
   "source": [
    "# addr과 찾아온 데이터들의 address1이 같은 것만 필터링\n",
    "df_filtered = df[df[\"address1\"].str.contains(addr)].reset_index(drop=True)\n",
    "df_filtered"
   ]
  },
  {
   "cell_type": "code",
   "execution_count": 28,
   "id": "470bf8a2",
   "metadata": {},
   "outputs": [],
   "source": [
    "# 모듈 파일 만들기 : py"
   ]
  },
  {
   "cell_type": "code",
   "execution_count": 32,
   "id": "a977cfbe",
   "metadata": {},
   "outputs": [
    {
     "name": "stdout",
     "output_type": "stream",
     "text": [
      " C 드라이브의 볼륨에는 이름이 없습니다.\n",
      " 볼륨 일련 번호: 7C6C-FC35\n",
      "\n",
      " C:\\Users\\User\\Desktop\\교안\\2022_08_04\\Code 디렉터리\n",
      "\n",
      "2022-08-04  오후 01:33    <DIR>          .\n",
      "2022-08-04  오후 01:33    <DIR>          ..\n",
      "2022-08-04  오전 11:08    <DIR>          .ipynb_checkpoints\n",
      "2022-08-04  오전 11:07            52,316 01_naver_api_2.ipynb\n",
      "2022-08-04  오후 01:31            23,893 02_zigbang.ipynb\n",
      "2022-08-04  오후 01:33             1,456 zigbang.py\n",
      "               3개 파일              77,665 바이트\n",
      "               3개 디렉터리  123,750,555,648 바이트 남음\n"
     ]
    }
   ],
   "source": [
    "%ls"
   ]
  },
  {
   "cell_type": "code",
   "execution_count": 31,
   "id": "19ee8ee7",
   "metadata": {},
   "outputs": [
    {
     "name": "stdout",
     "output_type": "stream",
     "text": [
      "Writing zigbang.py\n"
     ]
    }
   ],
   "source": [
    "%%writefile zigbang.py\n",
    "import requests\n",
    "import pandas as pd\n",
    "import geohash2\n",
    "\n",
    "def oneroom(addr) :\n",
    "    # 위도 경도 알아오기\n",
    "    url = f\"https://apis.zigbang.com/v2/search?leaseYn=N&q={addr}&serviceType=원룸\"\n",
    "    response = requests.get(url)\n",
    "    data = response.json()[\"items\"][0]\n",
    "    lat, lng = data[\"lat\"], data[\"lng\"]\n",
    "    \n",
    "    # 위도, 경도 값을 geohash로 변환\n",
    "    geohash = geohash2.encode(lat, lng, precision=5)\n",
    "    \n",
    "    # geohash를 통해 매물id를 가져온다\n",
    "    url = f\"https://apis.zigbang.com/v2/items?deposit_gteq=0&domain=zigbang\\\n",
    "&geohash={geohash}&needHasNoFiltered=true&rent_gteq=0&sales_type_in=전세|월세&service_type_eq=원룸\"\n",
    "    # \\로 문자열을 이어줄 때 ' ' 공백이 있으면 에러 발생하니 주의\n",
    "    response = requests.get(url)\n",
    "    items = response.json()[\"items\"]\n",
    "    ids = [item[\"item_id\"]for item in items]\n",
    "    \n",
    "    # 매물id를 통해서 매물에 대한 정보를 가져온다\n",
    "    url = \"https://apis.zigbang.com/v2/items/list\"\n",
    "    params = {\n",
    "        \"domain\" : \"zigbang\",\n",
    "        \"withCoalition\" : \"true\",\n",
    "        \"item_ids\" : ids\n",
    "        #\"item_ids\" : ids[:900]\n",
    "    }\n",
    "    response = requests.post(url, params)\n",
    "    items = response.json()[\"items\"]\n",
    "    # 필요한 정보들만 따로 선별해서 가져올 수 있게 한다\n",
    "    columns = [\"item_id\", \"sales_type\", \"deposit\", \"rent\", \"size_m2\", \"address1\", \"manage_cost\"]\n",
    "    df = pd.DataFrame(items)[columns]\n",
    "    return df"
   ]
  },
  {
   "cell_type": "code",
   "execution_count": 33,
   "id": "1d5eb605",
   "metadata": {},
   "outputs": [],
   "source": [
    "import zigbang as zb"
   ]
  },
  {
   "cell_type": "code",
   "execution_count": 34,
   "id": "522e595d",
   "metadata": {},
   "outputs": [
    {
     "data": {
      "text/html": [
       "<div>\n",
       "<style scoped>\n",
       "    .dataframe tbody tr th:only-of-type {\n",
       "        vertical-align: middle;\n",
       "    }\n",
       "\n",
       "    .dataframe tbody tr th {\n",
       "        vertical-align: top;\n",
       "    }\n",
       "\n",
       "    .dataframe thead th {\n",
       "        text-align: right;\n",
       "    }\n",
       "</style>\n",
       "<table border=\"1\" class=\"dataframe\">\n",
       "  <thead>\n",
       "    <tr style=\"text-align: right;\">\n",
       "      <th></th>\n",
       "      <th>item_id</th>\n",
       "      <th>sales_type</th>\n",
       "      <th>deposit</th>\n",
       "      <th>rent</th>\n",
       "      <th>size_m2</th>\n",
       "      <th>address1</th>\n",
       "      <th>manage_cost</th>\n",
       "    </tr>\n",
       "  </thead>\n",
       "  <tbody>\n",
       "    <tr>\n",
       "      <th>0</th>\n",
       "      <td>31938155</td>\n",
       "      <td>월세</td>\n",
       "      <td>500</td>\n",
       "      <td>30</td>\n",
       "      <td>27.39</td>\n",
       "      <td>부산시 금정구 구서동</td>\n",
       "      <td>10</td>\n",
       "    </tr>\n",
       "    <tr>\n",
       "      <th>1</th>\n",
       "      <td>32875488</td>\n",
       "      <td>월세</td>\n",
       "      <td>100</td>\n",
       "      <td>14</td>\n",
       "      <td>20.23</td>\n",
       "      <td>부산시 금정구 구서동</td>\n",
       "      <td>7</td>\n",
       "    </tr>\n",
       "    <tr>\n",
       "      <th>2</th>\n",
       "      <td>32837621</td>\n",
       "      <td>월세</td>\n",
       "      <td>500</td>\n",
       "      <td>40</td>\n",
       "      <td>29.13</td>\n",
       "      <td>부산시 금정구 구서동</td>\n",
       "      <td>10</td>\n",
       "    </tr>\n",
       "    <tr>\n",
       "      <th>3</th>\n",
       "      <td>32680930</td>\n",
       "      <td>월세</td>\n",
       "      <td>300</td>\n",
       "      <td>30</td>\n",
       "      <td>19.83</td>\n",
       "      <td>부산시 금정구 구서동</td>\n",
       "      <td>7</td>\n",
       "    </tr>\n",
       "    <tr>\n",
       "      <th>4</th>\n",
       "      <td>32243059</td>\n",
       "      <td>월세</td>\n",
       "      <td>4000</td>\n",
       "      <td>40</td>\n",
       "      <td>40.86</td>\n",
       "      <td>부산시 금정구 구서동</td>\n",
       "      <td>10</td>\n",
       "    </tr>\n",
       "  </tbody>\n",
       "</table>\n",
       "</div>"
      ],
      "text/plain": [
       "    item_id sales_type  deposit  rent  size_m2     address1 manage_cost\n",
       "0  31938155         월세      500    30    27.39  부산시 금정구 구서동          10\n",
       "1  32875488         월세      100    14    20.23  부산시 금정구 구서동           7\n",
       "2  32837621         월세      500    40    29.13  부산시 금정구 구서동          10\n",
       "3  32680930         월세      300    30    19.83  부산시 금정구 구서동           7\n",
       "4  32243059         월세     4000    40    40.86  부산시 금정구 구서동          10"
      ]
     },
     "execution_count": 34,
     "metadata": {},
     "output_type": "execute_result"
    }
   ],
   "source": [
    "df = zb.oneroom(\"금정구 남산동\")\n",
    "df.head()"
   ]
  },
  {
   "cell_type": "code",
   "execution_count": 36,
   "id": "784a7621",
   "metadata": {},
   "outputs": [
    {
     "name": "stdout",
     "output_type": "stream",
     "text": [
      "Variable      Type         Data/Info\n",
      "------------------------------------\n",
      "addr          str          마포구 합정동\n",
      "columns       list         n=7\n",
      "data          dict         n=13\n",
      "df            DataFrame          item_id sales_type <...>n\\n[146 rows x 7 columns]\n",
      "df_filtered   DataFrame         item_id sales_type  <...>n\\n[100 rows x 7 columns]\n",
      "geohash       str          wy7b1\n",
      "geohash2      module       <module 'geohash2' from '<...>\\\\geohash2\\\\__init__.py'>\n",
      "ids           list         n=699\n",
      "items         list         n=699\n",
      "lat           float        35.182559967041016\n",
      "lng           float        129.08554077148438\n",
      "oneroom       function     <function oneroom at 0x000001B35DDD3EE0>\n",
      "params        dict         n=3\n",
      "pd            module       <module 'pandas' from 'C:<...>es\\\\pandas\\\\__init__.py'>\n",
      "requests      module       <module 'requests' from '<...>\\\\requests\\\\__init__.py'>\n",
      "response      Response     <Response [200]>\n",
      "url           str          https://apis.zigbang.com/v2/items/list\n",
      "zb            module       <module 'zigbang' from 'C<...>08_04\\\\Code\\\\zigbang.py'>\n",
      "Once deleted, variables cannot be recovered. Proceed (y/[n])? y\n",
      "Interactive namespace is empty.\n"
     ]
    }
   ],
   "source": [
    "# 사용하는 변수 목록을 확인할 수 있다\n",
    "%whos\n",
    "# 위의 변수 목록을 초기화한다\n",
    "%reset\n",
    "%whos"
   ]
  },
  {
   "cell_type": "code",
   "execution_count": null,
   "id": "32d697a2",
   "metadata": {},
   "outputs": [],
   "source": []
  }
 ],
 "metadata": {
  "kernelspec": {
   "display_name": "Python 3",
   "language": "python",
   "name": "python3"
  },
  "language_info": {
   "codemirror_mode": {
    "name": "ipython",
    "version": 3
   },
   "file_extension": ".py",
   "mimetype": "text/x-python",
   "name": "python",
   "nbconvert_exporter": "python",
   "pygments_lexer": "ipython3",
   "version": "3.8.8"
  }
 },
 "nbformat": 4,
 "nbformat_minor": 5
}
